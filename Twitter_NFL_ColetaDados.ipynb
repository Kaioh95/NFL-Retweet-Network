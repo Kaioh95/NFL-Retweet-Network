{
  "nbformat": 4,
  "nbformat_minor": 0,
  "metadata": {
    "kernelspec": {
      "display_name": "Python 3",
      "language": "python",
      "name": "python3"
    },
    "language_info": {
      "codemirror_mode": {
        "name": "ipython",
        "version": 3
      },
      "file_extension": ".py",
      "mimetype": "text/x-python",
      "name": "python",
      "nbconvert_exporter": "python",
      "pygments_lexer": "ipython3",
      "version": "3.6.5"
    },
    "colab": {
      "name": "Twitter-NFL-ColetaDados.ipynb",
      "provenance": []
    }
  },
  "cells": [
    {
      "cell_type": "markdown",
      "metadata": {
        "id": "k-9oxa31vS19"
      },
      "source": [
        "# 1.0 Introduction\n"
      ]
    },
    {
      "cell_type": "markdown",
      "metadata": {
        "id": "XCgctKyCKJAd"
      },
      "source": [
        "\n",
        "***Copyright:*** *Parts of the contents of this Colab Notebook, unless otherwise indicated, are Copyright 2020 Filippo Menczer, Santo Fortunato and Clayton A. Davis, [A First Course in Network Science](https://github.com/CambridgeUniversityPress/FirstCourseNetworkScience). All rights reserved.* \n",
        "\n",
        "***References***: getting started with the Twitter API v2 for academic research [here](https://github.com/twitterdev/getting-started-with-the-twitter-api-v2-for-academic-research). "
      ]
    },
    {
      "cell_type": "markdown",
      "metadata": {
        "id": "4Quw1KPPKY4Q"
      },
      "source": [
        "\n",
        "# 2.0 Authenticating with Twitter's API\n"
      ]
    },
    {
      "cell_type": "markdown",
      "metadata": {
        "id": "Rwde_oFGKa6t"
      },
      "source": [
        "\n",
        "Twitter uses OAuth in order to allow third-party apps to access data on your behalf without requiring your Twitter login credentials -- note that none of the code in this notebook asks for your Twitter screen name or password.\n",
        "\n",
        "The OAuth \"dance\" can be intimidating when you first use it, but it provides a far more secure way for software to make requests on your behalf than providing your username and password.\n",
        "\n",
        "We'll make use of the\n",
        "[Twython](https://twython.readthedocs.io/en/latest/usage/starting_out.html#authentication)\n",
        "package to help us with authentication and querying Twitter's APIs."
      ]
    },
    {
      "cell_type": "code",
      "metadata": {
        "id": "nbJfX--XviL-",
        "colab": {
          "base_uri": "https://localhost:8080/"
        },
        "outputId": "ce012644-5b55-4f4b-aafb-fdfde908181c"
      },
      "source": [
        "!pip install Twython"
      ],
      "execution_count": null,
      "outputs": [
        {
          "output_type": "stream",
          "name": "stdout",
          "text": [
            "Collecting Twython\n",
            "  Downloading twython-3.9.1-py3-none-any.whl (33 kB)\n",
            "Requirement already satisfied: requests-oauthlib>=0.4.0 in /usr/local/lib/python3.7/dist-packages (from Twython) (1.3.1)\n",
            "Requirement already satisfied: requests>=2.1.0 in /usr/local/lib/python3.7/dist-packages (from Twython) (2.23.0)\n",
            "Requirement already satisfied: chardet<4,>=3.0.2 in /usr/local/lib/python3.7/dist-packages (from requests>=2.1.0->Twython) (3.0.4)\n",
            "Requirement already satisfied: certifi>=2017.4.17 in /usr/local/lib/python3.7/dist-packages (from requests>=2.1.0->Twython) (2021.10.8)\n",
            "Requirement already satisfied: urllib3!=1.25.0,!=1.25.1,<1.26,>=1.21.1 in /usr/local/lib/python3.7/dist-packages (from requests>=2.1.0->Twython) (1.24.3)\n",
            "Requirement already satisfied: idna<3,>=2.5 in /usr/local/lib/python3.7/dist-packages (from requests>=2.1.0->Twython) (2.10)\n",
            "Requirement already satisfied: oauthlib>=3.0.0 in /usr/local/lib/python3.7/dist-packages (from requests-oauthlib>=0.4.0->Twython) (3.2.0)\n",
            "Installing collected packages: Twython\n",
            "Successfully installed Twython-3.9.1\n"
          ]
        }
      ]
    },
    {
      "cell_type": "code",
      "metadata": {
        "id": "CthaJaXTvS1_"
      },
      "source": [
        "from twython import Twython, TwythonError"
      ],
      "execution_count": null,
      "outputs": []
    },
    {
      "cell_type": "markdown",
      "metadata": {
        "id": "S6QBuOCNvS1_"
      },
      "source": [
        "\n",
        "## 2.1 Enter app info and get auth URL\n"
      ]
    },
    {
      "cell_type": "markdown",
      "metadata": {
        "id": "CE7PcDtBX6Hz"
      },
      "source": [
        "\n",
        "In order to authenticate with Twitter, we'll provide the app details and  ask for a one-time authorization URL to authenticate your user with this app.\n",
        "\n",
        "Copy and paste the API key and secret from your Twitter app into a file named <font color=\"red\">keys.txt</font>. The first line is the API_KEY and the second line of the file is API_SECRET_KEY. For example, a template for the <font color=\"red\">keys.txt</font>: \n",
        "\n",
        "```python\n",
        "df6cf09894907b92f3ea749ef\n",
        "d19c40cbb184f72055c806f107b5158d023a43eb7d8921a0d0\n",
        "```"
      ]
    },
    {
      "cell_type": "code",
      "metadata": {
        "id": "lmkWjh8PU_yW"
      },
      "source": [
        "# open the keys file\n",
        "my_file = open(\"keys.txt\", \"r\")\n",
        "\n",
        "# read the raw data\n",
        "content = my_file.read()\n",
        "\n",
        "# split all lines by  newline character\n",
        "API_KEY, API_SECRET_KEY = content.split(\"\\n\")\n",
        "\n",
        "# close the file\n",
        "my_file.close()"
      ],
      "execution_count": null,
      "outputs": []
    },
    {
      "cell_type": "markdown",
      "metadata": {
        "id": "Ir_nhr6HV3Es"
      },
      "source": [
        "Executing the cell should then print out a clickable URL. This link is unique and will work **exactly** once. <font color=\"red\"> Visit this URL, log into Twitter, and then copy the verifier pin that is given to you so as to paste it in the next step</font>."
      ]
    },
    {
      "cell_type": "code",
      "metadata": {
        "id": "2jJCE5A1vS2A",
        "colab": {
          "base_uri": "https://localhost:8080/"
        },
        "outputId": "cc8fd0ae-8841-4df1-bbd6-72e558d71cbf"
      },
      "source": [
        "twitter = Twython(API_KEY, API_SECRET_KEY)\n",
        "\n",
        "authentication_tokens = twitter.get_authentication_tokens()\n",
        "print(authentication_tokens['auth_url'])"
      ],
      "execution_count": null,
      "outputs": [
        {
          "output_type": "stream",
          "name": "stdout",
          "text": [
            "https://api.twitter.com/oauth/authenticate?oauth_token=GVT4jAAAAAABZKTtAAABfv15g_4\n"
          ]
        }
      ]
    },
    {
      "cell_type": "markdown",
      "metadata": {
        "id": "LAPHhovGvS2B"
      },
      "source": [
        "## 2.2 Authorize app using verifier PIN\n"
      ]
    },
    {
      "cell_type": "markdown",
      "metadata": {
        "id": "hGpriOZJX4Us"
      },
      "source": [
        "\n",
        "That verifier PIN goes into the next cell. This will be different every time you run these steps. The `authentication_tokens` include temporary tokens that go with this verifier PIN; by submitting these together, we show Twitter that we are who we say we are."
      ]
    },
    {
      "cell_type": "code",
      "metadata": {
        "id": "OI9MjTs_vS2B"
      },
      "source": [
        "# Replace the verifier with the pin number obtained with your web browser in the previous step\n",
        "VERIFIER = '2887399'\n",
        "\n",
        "twitter = Twython(API_KEY, API_SECRET_KEY,\n",
        "                  authentication_tokens['oauth_token'],\n",
        "                  authentication_tokens['oauth_token_secret'])\n",
        "\n",
        "authorized_tokens = twitter.get_authorized_tokens(VERIFIER)"
      ],
      "execution_count": null,
      "outputs": []
    },
    {
      "cell_type": "markdown",
      "metadata": {
        "id": "tiDiGGx5X0w-"
      },
      "source": [
        "\n",
        "## 2.3 Use authorized tokens\n"
      ]
    },
    {
      "cell_type": "markdown",
      "metadata": {
        "id": "JWwkYGtMX3Fq"
      },
      "source": [
        "\n",
        "Now we have a permanent token pair that we can use to make authenticated calls to the Twitter API. We'll create a new Twython object using these authenticated keys and verify the credentials of the logged-in user."
      ]
    },
    {
      "cell_type": "code",
      "metadata": {
        "id": "m7n_kesWvS2C",
        "colab": {
          "base_uri": "https://localhost:8080/"
        },
        "outputId": "5c5beac7-aacb-4ee9-afd6-047ecb9c5bc8"
      },
      "source": [
        "twitter = Twython(API_KEY, API_SECRET_KEY,\n",
        "                  authorized_tokens['oauth_token'],\n",
        "                  authorized_tokens['oauth_token_secret'])\n",
        "\n",
        "twitter.verify_credentials()"
      ],
      "execution_count": null,
      "outputs": [
        {
          "output_type": "execute_result",
          "data": {
            "text/plain": [
              "{'contributors_enabled': False,\n",
              " 'created_at': 'Fri Mar 23 20:52:47 +0000 2012',\n",
              " 'default_profile': False,\n",
              " 'default_profile_image': False,\n",
              " 'description': '...',\n",
              " 'entities': {'description': {'urls': []}},\n",
              " 'favourites_count': 2,\n",
              " 'follow_request_sent': False,\n",
              " 'followers_count': 4,\n",
              " 'following': False,\n",
              " 'friends_count': 32,\n",
              " 'geo_enabled': False,\n",
              " 'has_extended_profile': True,\n",
              " 'id': 534709384,\n",
              " 'id_str': '534709384',\n",
              " 'is_translation_enabled': False,\n",
              " 'is_translator': False,\n",
              " 'lang': None,\n",
              " 'listed_count': 0,\n",
              " 'location': 'Natal - RN',\n",
              " 'name': 'Kaio Henrique',\n",
              " 'needs_phone_verification': False,\n",
              " 'notifications': False,\n",
              " 'profile_background_color': 'C0DEED',\n",
              " 'profile_background_image_url': 'http://abs.twimg.com/images/themes/theme1/bg.png',\n",
              " 'profile_background_image_url_https': 'https://abs.twimg.com/images/themes/theme1/bg.png',\n",
              " 'profile_background_tile': True,\n",
              " 'profile_banner_url': 'https://pbs.twimg.com/profile_banners/534709384/1474312724',\n",
              " 'profile_image_url': 'http://pbs.twimg.com/profile_images/1492525956459900935/tq7TC3Sw_normal.jpg',\n",
              " 'profile_image_url_https': 'https://pbs.twimg.com/profile_images/1492525956459900935/tq7TC3Sw_normal.jpg',\n",
              " 'profile_link_color': '0084B4',\n",
              " 'profile_sidebar_border_color': 'C0DEED',\n",
              " 'profile_sidebar_fill_color': 'DDEEF6',\n",
              " 'profile_text_color': '333333',\n",
              " 'profile_use_background_image': True,\n",
              " 'protected': False,\n",
              " 'screen_name': 'KaioH_Sousa',\n",
              " 'status': {'contributors': None,\n",
              "  'coordinates': None,\n",
              "  'created_at': 'Fri Nov 05 19:33:39 +0000 2021',\n",
              "  'entities': {'hashtags': [],\n",
              "   'symbols': [],\n",
              "   'urls': [],\n",
              "   'user_mentions': [{'id': 15876422,\n",
              "     'id_str': '15876422',\n",
              "     'indices': [0, 7],\n",
              "     'name': 'Gaveta 🖖🚀✨',\n",
              "     'screen_name': 'gaveta'}]},\n",
              "  'favorite_count': 0,\n",
              "  'favorited': False,\n",
              "  'geo': None,\n",
              "  'id': 1456706292156936192,\n",
              "  'id_str': '1456706292156936192',\n",
              "  'in_reply_to_screen_name': 'gaveta',\n",
              "  'in_reply_to_status_id': 1456275457373089792,\n",
              "  'in_reply_to_status_id_str': '1456275457373089792',\n",
              "  'in_reply_to_user_id': 15876422,\n",
              "  'in_reply_to_user_id_str': '15876422',\n",
              "  'is_quote_status': False,\n",
              "  'lang': 'pt',\n",
              "  'place': None,\n",
              "  'retweet_count': 0,\n",
              "  'retweeted': False,\n",
              "  'source': '<a href=\"https://mobile.twitter.com\" rel=\"nofollow\">Twitter Web App</a>',\n",
              "  'text': '@gaveta Saudades do gato miopia',\n",
              "  'truncated': False},\n",
              " 'statuses_count': 5,\n",
              " 'suspended': False,\n",
              " 'time_zone': None,\n",
              " 'translator_type': 'none',\n",
              " 'url': None,\n",
              " 'utc_offset': None,\n",
              " 'verified': False,\n",
              " 'withheld_in_countries': []}"
            ]
          },
          "metadata": {},
          "execution_count": 7
        }
      ]
    },
    {
      "cell_type": "markdown",
      "metadata": {
        "id": "NlWjJc2KvS2C"
      },
      "source": [
        "If the previous cell ran without error and printed out a dict corresponding to a\n",
        "[Twitter User](https://developer.twitter.com/en/docs/tweets/data-dictionary/overview/user-object),\n",
        "then you're good. The authorized token pair is like a username/password and should be protected as such.\n"
      ]
    },
    {
      "cell_type": "markdown",
      "metadata": {
        "id": "-Gwmtja_vS2G"
      },
      "source": [
        "# 3.0 Twitter retweet network\n"
      ]
    },
    {
      "cell_type": "markdown",
      "metadata": {
        "id": "usz_Jzv5HsGn"
      },
      "source": [
        "\n",
        "One fundamental interaction in the Twitter ecosystem is the \"retweet\" -- rebroadcasting another user's tweet to your followers. A tweet object returned by the API is a retweet if it includes a `'retweeted_status'`. We're going to fetch tweets matching a hashtag and create a retweet network of the conversation.\n"
      ]
    },
    {
      "cell_type": "markdown",
      "metadata": {
        "id": "PXB4ZTXpvS2G"
      },
      "source": [
        "## 3.1 Create DiGraph\n"
      ]
    },
    {
      "cell_type": "markdown",
      "metadata": {
        "id": "Tp4UUg5ookVF"
      },
      "source": [
        "\n",
        "Each tweet in this list of retweets represents an edge in our network. <font color='red'>We're going to draw these edges in the direction of information flow</font>: from the retweeted user to the retweeter, the user doing the retweeting. Since a user can retweet another user more than once, we want this graph to be weighted, with the number of retweets as the weight."
      ]
    },
    {
      "cell_type": "markdown",
      "metadata": {
        "id": "acyByTp3vS2G"
      },
      "source": [
        "The edge addition logic here is to increase the edge weight by 1 if the edge exists, or else create the edge with weight 1 if it does not exist.\n",
        "\n",
        "When writing code such as this that refers multiple times to the same directed edge, make sure to be consistent with the edge direction."
      ]
    },
    {
      "cell_type": "code",
      "source": [
        "import datetime\n",
        "import pandas as pd\n",
        "import networkx as nx\n",
        "import time\n",
        "\n",
        "D = nx.DiGraph()\n",
        "dict_ = {'id_retweet': [], 'retweeted_screen_name': [], 'retweeted_location': [], 'retweeter_screen_name': [], 'retweeter_location' : []}\n",
        "\n",
        "# Getting today's date\n",
        "datestamp = datetime.datetime.now().strftime(\"%Y-%m-%d\")\n"
      ],
      "metadata": {
        "id": "GQDLp0SBoejn"
      },
      "execution_count": null,
      "outputs": []
    },
    {
      "cell_type": "code",
      "source": [
        "import itertools\n",
        "\n",
        "NUM_TWEETS_TO_FETCH = 15000\n",
        "\n",
        "cursor = twitter.cursor(twitter.search, q='#NFL', count=100, result_type='mixed')\n",
        "search_tweets = []\n",
        "#search_tweets = list(itertools.islice(cursor, NUM_TWEETS_TO_FETCH))\n",
        "#len(search_tweets)"
      ],
      "metadata": {
        "id": "yvo7HfOvo6C4"
      },
      "execution_count": null,
      "outputs": []
    },
    {
      "cell_type": "code",
      "source": [
        "for ii in range(2): # loop para coletar dados a cada 16 minutos\n",
        "    search_tweets.extend(list(itertools.islice(cursor, NUM_TWEETS_TO_FETCH)))\n",
        "    time.sleep(16 * 60)\n",
        "\n",
        "print(len(search_tweets))"
      ],
      "metadata": {
        "colab": {
          "base_uri": "https://localhost:8080/"
        },
        "id": "29HEOllTedLz",
        "outputId": "e7f918ac-df40-4394-d8bd-1148564e2693"
      },
      "execution_count": null,
      "outputs": [
        {
          "output_type": "stream",
          "name": "stdout",
          "text": [
            "60000\n"
          ]
        }
      ]
    },
    {
      "cell_type": "code",
      "source": [
        "retweets = []\n",
        "for tweet in search_tweets:\n",
        "    if 'retweeted_status' in tweet:\n",
        "        retweets.append(tweet)\n",
        "print(\"filter \", len(retweets))"
      ],
      "metadata": {
        "colab": {
          "base_uri": "https://localhost:8080/"
        },
        "id": "G6kMCdbIeeuS",
        "outputId": "d9a04b98-537f-4f17-8bd2-d85b5d60dc1d"
      },
      "execution_count": null,
      "outputs": [
        {
          "output_type": "stream",
          "name": "stdout",
          "text": [
            "filter  28585\n"
          ]
        }
      ]
    },
    {
      "cell_type": "code",
      "source": [
        "for retweet in retweets:\n",
        "    retweeted_status = retweet['retweeted_status']\n",
        "\n",
        "    retweeted_sn = retweeted_status['user']['screen_name']\n",
        "    retweetedL = retweeted_status['user']['location']\n",
        "    retweeter_sn = retweet['user']['screen_name']\n",
        "    retweeterL = retweet['user']['location']\n",
        "\n",
        "    dict_['id_retweet'].append(retweet[\"id\"])\n",
        "    dict_['retweeted_screen_name'].append(retweeted_sn)\n",
        "    dict_['retweeted_location'].append(retweetedL)\n",
        "    dict_['retweeter_screen_name'].append(retweeter_sn)\n",
        "    dict_['retweeter_location'].append(retweeterL)\n",
        "  \n",
        "    # Edge direction: retweeted_sn -> retweeter_sn\n",
        "    if D.has_edge(retweeted_sn, retweeter_sn):\n",
        "        D.edges[retweeted_sn, retweeter_sn]['weight'] += 1\n",
        "    else:\n",
        "        D.add_edge(retweeted_sn, retweeter_sn, weight=1)\n",
        "    "
      ],
      "metadata": {
        "id": "MPJnV0Gx7sPD"
      },
      "execution_count": null,
      "outputs": []
    },
    {
      "cell_type": "code",
      "source": [
        "# criando dataframe de retweets com #NFL \n",
        "df = pd.DataFrame(dict_)\n",
        "\n",
        "df.head()"
      ],
      "metadata": {
        "id": "zL91JUqpx4aa",
        "colab": {
          "base_uri": "https://localhost:8080/",
          "height": 206
        },
        "outputId": "19a38f0b-d23f-4280-c8c0-67be31d0221b"
      },
      "execution_count": null,
      "outputs": [
        {
          "output_type": "execute_result",
          "data": {
            "text/html": [
              "\n",
              "  <div id=\"df-d29e350a-62d4-4172-b762-092067ddd0c4\">\n",
              "    <div class=\"colab-df-container\">\n",
              "      <div>\n",
              "<style scoped>\n",
              "    .dataframe tbody tr th:only-of-type {\n",
              "        vertical-align: middle;\n",
              "    }\n",
              "\n",
              "    .dataframe tbody tr th {\n",
              "        vertical-align: top;\n",
              "    }\n",
              "\n",
              "    .dataframe thead th {\n",
              "        text-align: right;\n",
              "    }\n",
              "</style>\n",
              "<table border=\"1\" class=\"dataframe\">\n",
              "  <thead>\n",
              "    <tr style=\"text-align: right;\">\n",
              "      <th></th>\n",
              "      <th>id_retweet</th>\n",
              "      <th>retweeted_screen_name</th>\n",
              "      <th>retweeted_location</th>\n",
              "      <th>retweeter_screen_name</th>\n",
              "      <th>retweeter_location</th>\n",
              "    </tr>\n",
              "  </thead>\n",
              "  <tbody>\n",
              "    <tr>\n",
              "      <th>0</th>\n",
              "      <td>1493582820241031170</td>\n",
              "      <td>MackTightRadio</td>\n",
              "      <td>Worldwide</td>\n",
              "      <td>SapphireSteamy</td>\n",
              "      <td>🙏🏽 LEVITATED 🙏🏽</td>\n",
              "    </tr>\n",
              "    <tr>\n",
              "      <th>1</th>\n",
              "      <td>1493582749919236100</td>\n",
              "      <td>therealBeede</td>\n",
              "      <td>Orlando, FL</td>\n",
              "      <td>_0wayz</td>\n",
              "      <td></td>\n",
              "    </tr>\n",
              "    <tr>\n",
              "      <th>2</th>\n",
              "      <td>1493582683070472199</td>\n",
              "      <td>DavidMTodd</td>\n",
              "      <td></td>\n",
              "      <td>jaduke77</td>\n",
              "      <td>Pittsburgh, PA</td>\n",
              "    </tr>\n",
              "    <tr>\n",
              "      <th>3</th>\n",
              "      <td>1493582582298341382</td>\n",
              "      <td>crypto_prince2</td>\n",
              "      <td>Las Vegas, NV</td>\n",
              "      <td>AkmazRasim</td>\n",
              "      <td></td>\n",
              "    </tr>\n",
              "    <tr>\n",
              "      <th>4</th>\n",
              "      <td>1493582582264516610</td>\n",
              "      <td>NFLBrasil</td>\n",
              "      <td>Brasil</td>\n",
              "      <td>IgorBSilva81</td>\n",
              "      <td>Valinhos, Brasil</td>\n",
              "    </tr>\n",
              "  </tbody>\n",
              "</table>\n",
              "</div>\n",
              "      <button class=\"colab-df-convert\" onclick=\"convertToInteractive('df-d29e350a-62d4-4172-b762-092067ddd0c4')\"\n",
              "              title=\"Convert this dataframe to an interactive table.\"\n",
              "              style=\"display:none;\">\n",
              "        \n",
              "  <svg xmlns=\"http://www.w3.org/2000/svg\" height=\"24px\"viewBox=\"0 0 24 24\"\n",
              "       width=\"24px\">\n",
              "    <path d=\"M0 0h24v24H0V0z\" fill=\"none\"/>\n",
              "    <path d=\"M18.56 5.44l.94 2.06.94-2.06 2.06-.94-2.06-.94-.94-2.06-.94 2.06-2.06.94zm-11 1L8.5 8.5l.94-2.06 2.06-.94-2.06-.94L8.5 2.5l-.94 2.06-2.06.94zm10 10l.94 2.06.94-2.06 2.06-.94-2.06-.94-.94-2.06-.94 2.06-2.06.94z\"/><path d=\"M17.41 7.96l-1.37-1.37c-.4-.4-.92-.59-1.43-.59-.52 0-1.04.2-1.43.59L10.3 9.45l-7.72 7.72c-.78.78-.78 2.05 0 2.83L4 21.41c.39.39.9.59 1.41.59.51 0 1.02-.2 1.41-.59l7.78-7.78 2.81-2.81c.8-.78.8-2.07 0-2.86zM5.41 20L4 18.59l7.72-7.72 1.47 1.35L5.41 20z\"/>\n",
              "  </svg>\n",
              "      </button>\n",
              "      \n",
              "  <style>\n",
              "    .colab-df-container {\n",
              "      display:flex;\n",
              "      flex-wrap:wrap;\n",
              "      gap: 12px;\n",
              "    }\n",
              "\n",
              "    .colab-df-convert {\n",
              "      background-color: #E8F0FE;\n",
              "      border: none;\n",
              "      border-radius: 50%;\n",
              "      cursor: pointer;\n",
              "      display: none;\n",
              "      fill: #1967D2;\n",
              "      height: 32px;\n",
              "      padding: 0 0 0 0;\n",
              "      width: 32px;\n",
              "    }\n",
              "\n",
              "    .colab-df-convert:hover {\n",
              "      background-color: #E2EBFA;\n",
              "      box-shadow: 0px 1px 2px rgba(60, 64, 67, 0.3), 0px 1px 3px 1px rgba(60, 64, 67, 0.15);\n",
              "      fill: #174EA6;\n",
              "    }\n",
              "\n",
              "    [theme=dark] .colab-df-convert {\n",
              "      background-color: #3B4455;\n",
              "      fill: #D2E3FC;\n",
              "    }\n",
              "\n",
              "    [theme=dark] .colab-df-convert:hover {\n",
              "      background-color: #434B5C;\n",
              "      box-shadow: 0px 1px 3px 1px rgba(0, 0, 0, 0.15);\n",
              "      filter: drop-shadow(0px 1px 2px rgba(0, 0, 0, 0.3));\n",
              "      fill: #FFFFFF;\n",
              "    }\n",
              "  </style>\n",
              "\n",
              "      <script>\n",
              "        const buttonEl =\n",
              "          document.querySelector('#df-d29e350a-62d4-4172-b762-092067ddd0c4 button.colab-df-convert');\n",
              "        buttonEl.style.display =\n",
              "          google.colab.kernel.accessAllowed ? 'block' : 'none';\n",
              "\n",
              "        async function convertToInteractive(key) {\n",
              "          const element = document.querySelector('#df-d29e350a-62d4-4172-b762-092067ddd0c4');\n",
              "          const dataTable =\n",
              "            await google.colab.kernel.invokeFunction('convertToInteractive',\n",
              "                                                     [key], {});\n",
              "          if (!dataTable) return;\n",
              "\n",
              "          const docLinkHtml = 'Like what you see? Visit the ' +\n",
              "            '<a target=\"_blank\" href=https://colab.research.google.com/notebooks/data_table.ipynb>data table notebook</a>'\n",
              "            + ' to learn more about interactive tables.';\n",
              "          element.innerHTML = '';\n",
              "          dataTable['output_type'] = 'display_data';\n",
              "          await google.colab.output.renderOutput(dataTable, element);\n",
              "          const docLink = document.createElement('div');\n",
              "          docLink.innerHTML = docLinkHtml;\n",
              "          element.appendChild(docLink);\n",
              "        }\n",
              "      </script>\n",
              "    </div>\n",
              "  </div>\n",
              "  "
            ],
            "text/plain": [
              "            id_retweet  ... retweeter_location\n",
              "0  1493582820241031170  ...    🙏🏽 LEVITATED 🙏🏽\n",
              "1  1493582749919236100  ...                   \n",
              "2  1493582683070472199  ...     Pittsburgh, PA\n",
              "3  1493582582298341382  ...                   \n",
              "4  1493582582264516610  ...   Valinhos, Brasil\n",
              "\n",
              "[5 rows x 5 columns]"
            ]
          },
          "metadata": {},
          "execution_count": 36
        }
      ]
    },
    {
      "cell_type": "code",
      "source": [
        "# Salvando dados em csv\n",
        "df.to_csv(\"NFL-\"+datestamp+\".csv\")"
      ],
      "metadata": {
        "id": "bBy6-Mz2ydhy"
      },
      "execution_count": null,
      "outputs": []
    },
    {
      "cell_type": "code",
      "source": [
        "# Salvando network em graphml\n",
        "nx.write_graphml(D, \"NFL-\"+datestamp+\".graphml\")"
      ],
      "metadata": {
        "id": "dDVvRHgzykXS"
      },
      "execution_count": null,
      "outputs": []
    },
    {
      "cell_type": "code",
      "source": [
        "# Verificando a quantidade de requests restantes\n",
        "twitter.get_application_rate_limit_status()['resources']['search']"
      ],
      "metadata": {
        "id": "S51H_I3azGoz",
        "colab": {
          "base_uri": "https://localhost:8080/"
        },
        "outputId": "e49e1dc4-5be8-45a6-91c6-7ff73d003927"
      },
      "execution_count": null,
      "outputs": [
        {
          "output_type": "execute_result",
          "data": {
            "text/plain": [
              "{'/search/tweets': {'limit': 180, 'remaining': 180, 'reset': 1644944119}}"
            ]
          },
          "metadata": {},
          "execution_count": 47
        }
      ]
    },
    {
      "cell_type": "markdown",
      "metadata": {
        "id": "LwU9t4eWvS2G"
      },
      "source": [
        "## 6.2 Analyze graph\n"
      ]
    },
    {
      "cell_type": "markdown",
      "metadata": {
        "id": "uNYZz_oWqEAt"
      },
      "source": [
        "\n",
        "Now that we have this graph, let's ask some questions about it.\n"
      ]
    },
    {
      "cell_type": "markdown",
      "metadata": {
        "id": "m0zcjTTtqKfV"
      },
      "source": [
        "\n",
        "### 6.2.1 Most retweeted user\n"
      ]
    },
    {
      "cell_type": "markdown",
      "metadata": {
        "id": "Ln5awzOeqLT_"
      },
      "source": [
        "\n",
        "Since the edges are in the direction of information flow, out-degree gives us the number of other users retweeting a given user. We can get the user with highest out-degree using the built-in `max` function:"
      ]
    },
    {
      "cell_type": "code",
      "metadata": {
        "id": "ZinSHs6qvS2G",
        "colab": {
          "base_uri": "https://localhost:8080/",
          "height": 35
        },
        "outputId": "4b5a444b-31d0-414d-c1a5-6850c3725bfb"
      },
      "source": [
        "max(D.nodes, key=D.out_degree)"
      ],
      "execution_count": null,
      "outputs": [
        {
          "output_type": "execute_result",
          "data": {
            "application/vnd.google.colaboratory.intrinsic+json": {
              "type": "string"
            },
            "text/plain": [
              "'Brother_nfts'"
            ]
          },
          "metadata": {},
          "execution_count": 39
        }
      ]
    },
    {
      "cell_type": "markdown",
      "metadata": {
        "id": "ihJcKVtuvS2G"
      },
      "source": [
        "but we can get more context and information from the \"top N\" users:"
      ]
    },
    {
      "cell_type": "code",
      "metadata": {
        "id": "6sSh64DbvS2G",
        "colab": {
          "base_uri": "https://localhost:8080/"
        },
        "outputId": "d8c5ef55-58bc-4eb8-ff2a-c9ba4afb8160"
      },
      "source": [
        "from operator import itemgetter\n",
        "\n",
        "sorted(D.out_degree(), key=itemgetter(1), reverse=True)[:5]"
      ],
      "execution_count": null,
      "outputs": [
        {
          "output_type": "execute_result",
          "data": {
            "text/plain": [
              "[('Brother_nfts', 1543),\n",
              " ('Endzone_Brasil', 1173),\n",
              " ('1218Sports', 519),\n",
              " ('jollenelevid', 488),\n",
              " ('OddsCheckerUS', 482)]"
            ]
          },
          "metadata": {},
          "execution_count": 40
        }
      ]
    },
    {
      "cell_type": "code",
      "metadata": {
        "id": "DS93volW-lDa",
        "colab": {
          "base_uri": "https://localhost:8080/"
        },
        "outputId": "e1ae59e3-e0f3-404d-b050-d9e40470b4a2"
      },
      "source": [
        "D.out_degree()"
      ],
      "execution_count": null,
      "outputs": [
        {
          "output_type": "execute_result",
          "data": {
            "text/plain": [
              "OutDegreeView({'CarlaZambelli38': 105, 'CarlosBolzan2': 0, 'RFransceschi': 0, 'JosCarl78233530': 0, 'lssposito': 0, 'ercio_santoss': 0, 'BrunoCr62058963': 0, 'cleide_ita': 0, 'JFH84343564': 0, 'rblondt': 0, 'LeiHigor': 0, 'ovasco71': 0, 'Eduardoegg2': 0, 'sissa155': 0, 'Claudinho_oa': 0, 'HackAlberto': 0, 'danilovsouza1': 0, 'EldriEldri': 0, 'MachadoPrudente': 0, 'belluccis': 0, 'MarcosDiaslogan': 0, 'PedroFe33848000': 0, 'NovaFriburgoRJ': 0, 'Lou_novak': 0, 'ReinaldoLuizCa2': 0, 'maceno_sueli': 0, 'Docilda1': 0, 'soniaalmeidafe': 0, 'JooBati47318744': 0, 'regisrpop': 0, 'PrRobsonAlencar': 0, 'Marcos08905454': 0, 'Washing41753473': 0, 'JuNascimentoGyn': 0, 'EzioDiasdoNasc1': 0, 'RobsonWiller3': 0, 'BrasilPtriaAma3': 0, 'almagnolima': 0, 'soniaTangari': 0, 'UiraitanReis': 0, 'Paiakkan': 0, 'angoneto': 0, 'Salvado89779435': 0, 'dudu_santana05': 0, 'Raimund39337518': 0, 'ClaudomiroSil18': 0, 'Renan1debora': 0, 'Arlindo71123942': 0, 'NellsBhor': 0, 'RicardoLipex': 0, 'WOLF_Lorn': 0, 'Richard67917408': 0, 'vita_teodoro': 0, 'moreira_ranulfo': 0, 'pr_bolsonaro': 0, 'Fernand03438085': 0, 'MarioMeiraNeve1': 0, 'MarcosKaizen': 0, 'joseantoniomas7': 0, 'PimMaiden': 0, 'AdelFernando2': 0, 'luiz_braga2006': 0, 'MarlyMms': 0, 'KarlaMartinel15': 0, 'CarlaPatMG': 0, 'Reinald34757343': 0, 'AlexAlcantara8': 0, 'CarlosCleiber3': 0, 'DaDomenech': 0, 'jleites58': 0, 'geraldinhoweb': 0, 'celsohl': 0, 'PauloDigenes42': 0, 'LeoDeJudah1': 0, 'zfabrogmailcom': 0, 'JoaoAleixo13': 0, 'mariapa34434871': 0, 'Bruxa42725172': 0, 'Valter11239931': 0, 'MauraMariano16': 0, 'DrJlioCsarVasc2': 0, 'Renata91493146': 0, 'Ruybr': 0, 'LenniMarqs': 0, 'saritaadv': 0, 'chaar_marcos': 0, 'gustagaiyer': 0, 'jujunaka': 0, 'PlinioPei1': 0, 'Marcia27643920': 0, 'WLCDG': 0, 'Juanita61348092': 0, 'Helena2015sc': 0, 'CarneiroMARC': 0, 'MartinSwidersk1': 0, 'MarcioKerpe': 0, 'patriciabrassil': 0, 'Edilanebornh': 0, 'RobertoLindoso1': 0, 'Melquisedequex': 0, 'Alexandre071172': 0, 'lopesgenevaldo1': 0, 'RUTOLIMAC': 0, 'submisso49': 0, 'Mcfcoach': 0, 'miltonsavana': 0, 'FelisbinoSergio': 1, 'MichelleSGonal1': 0, 'Hannysiei': 1, 'elhart_': 0, 'guicambraia': 1, 'pedrofeerraz': 0, 'UFPA_Oficial': 2, 'marcond3serrao': 0, 'Danutaleao': 0, 'SandraRaissa': 1, 'NeisaFernandes': 0, 'ThiagoResiste': 2, 'Harriss71523515': 0, 'rodrigo_mpassos': 4, 'calvimlessa': 0, 'Maria25175067': 0, 'PssaroVermelho3': 0, 'Eltrico14': 1, 'JooFran68861551': 0, 'Mccfava': 0, 'EsquerdaTinder': 3, 'FJorgeline': 0, 'pradoedna583': 0, 'EdinhoPG02': 1, 'ThiagoCabralNL': 0, 'nicolasledur': 1, 'TchauBozonaro': 0, 'kenmiIes': 12, 'JManjador': 0, 'BianCha0s': 0, 'NicolauPonte': 2, 'bellaciaubella': 0, 'marcos_bicalho': 0, 'marciondj': 0, 'PompeodeMattos': 4, 'ZeusHadesZH': 0, 'luanazevedopr': 1, 'rennanziemer': 0, 'g1parana': 1, 'P07906743Daniel': 0, 'Matheus_gom19': 0, 'Rodrigo_Costa84': 0, 'mo4ios': 0, 'atanasio_real': 0, 'ocompatriota': 0, 'NelsonR37769700': 0, 'TMaioria': 0, 'ratrovarelli': 0, '1MBdememoria': 0, 'GabrielLathos': 0, 'meirele_ana': 0, 'thetaxista': 0, 'allonso99': 2, 'OhdarlingDyo': 0, 'blogoxerecife': 1, 'RecifeBot': 0, 'bspinh51': 0, 'Fernandmansano': 1, 'Bltcoin_bunnies': 0, 'greyp47178225': 1, 'ValderIzato': 0, 'historia_pensar': 2, 'Seoade': 0, 'MendesOnca': 0, 'camarotedacpi': 2, 'Malelo2711': 0, 'DimasAntifa': 0, 'sexy_cansei': 1, 'RubelHo14586708': 0, 'psbnacamara': 2, 'BrigidaDuarte1': 0, 'GalenoVix': 1, 'Ideies': 1, 'marcosvcmorais': 0, 'gazetadopovo': 5, 'altinocorreia': 0, 'ci_puhl': 1, 'r87944374': 0, 'valoreconomico': 4, 'adaopensador': 0, 'lizzy_kkjjjh': 0, 'stedile_mst': 1, 'sindipetro_es': 0, 'lotaviooliveira': 1, 'AgathaComeu': 0, 'matnobrega': 1, 'magnochristo': 0, 'alexandreh3nr1q': 0, 'patrickfranca': 0, 'SOS_RIO': 0, 'PH_APARICIO': 0, 'Fabiano61492141': 0, 'BrabaTurma': 0})"
            ]
          },
          "metadata": {},
          "execution_count": 46
        }
      ]
    },
    {
      "cell_type": "markdown",
      "metadata": {
        "id": "DKjZUB2RvS2G"
      },
      "source": [
        "In this piece of code, we take advantage of the fact that `D.out_degree()` returns a sequence of `(name, degree)` 2-tuples; specifying `key=itemgetter(1)` tells the `sorted` function to sort these 2-tuples by their value at index 1. Giving `reverse=True` tells the `sorted` function that we want this in descending order, and the `[:5]` at the end slices the first 5 items from the resulting list.\n",
        "\n",
        "However, this is a weighted graph! By default, `out_degree()` ignores the edge weights. We can get out-strength by telling the `out_degree()` function to take into account the edge weight:"
      ]
    },
    {
      "cell_type": "code",
      "metadata": {
        "id": "tFfxTxMBvS2G",
        "colab": {
          "base_uri": "https://localhost:8080/"
        },
        "outputId": "803bcca0-1b7b-408b-c7ce-142e4d789d44"
      },
      "source": [
        "sorted(D.out_degree(weight='weight'), key=itemgetter(1), reverse=True)[:5]"
      ],
      "execution_count": null,
      "outputs": [
        {
          "output_type": "execute_result",
          "data": {
            "text/plain": [
              "[('Endzone_Brasil', 3305),\n",
              " ('Brother_nfts', 1673),\n",
              " ('1218Sports', 1013),\n",
              " ('nflextra', 843),\n",
              " ('jollenelevid', 765)]"
            ]
          },
          "metadata": {},
          "execution_count": 41
        }
      ]
    },
    {
      "cell_type": "markdown",
      "metadata": {
        "id": "L6r1o4tFvS2H"
      },
      "source": [
        "In some cases these two results will be the same, namely if none of these users has been retweeted multiple times by the same user. Depending on your use case, you may or may not wish to take the weights into account.\n"
      ]
    },
    {
      "cell_type": "markdown",
      "metadata": {
        "id": "I5txahzgqsF1"
      },
      "source": [
        "\n",
        "### 6.2.2 Anomaly detection\n"
      ]
    },
    {
      "cell_type": "markdown",
      "metadata": {
        "id": "qY7B2EqFqt73"
      },
      "source": [
        "\n",
        "One type of social media manipulation involves accounts that create very little original content, instead \"spamming\" retweets of any and all content in a particular conversation. Can we detect any users doing significantly more retweeting than others? Let's look at the top N retweeters:"
      ]
    },
    {
      "cell_type": "code",
      "metadata": {
        "scrolled": true,
        "id": "2YbKCw3PvS2H",
        "colab": {
          "base_uri": "https://localhost:8080/"
        },
        "outputId": "d47d4ef7-d8d7-437d-e6ef-4559e41763f0"
      },
      "source": [
        "sorted(D.in_degree(weight='weight'), key=itemgetter(1), reverse=True)[:5]"
      ],
      "execution_count": null,
      "outputs": [
        {
          "output_type": "execute_result",
          "data": {
            "text/plain": [
              "[('theffrobot', 153),\n",
              " ('topfanscorner', 143),\n",
              " ('nflttbr', 111),\n",
              " ('touchdownbot', 95),\n",
              " ('iglen31', 47)]"
            ]
          },
          "metadata": {},
          "execution_count": 42
        }
      ]
    },
    {
      "cell_type": "markdown",
      "metadata": {
        "id": "gLdgve_dvS2H"
      },
      "source": [
        "### 6.2.3 Connectivity\n"
      ]
    },
    {
      "cell_type": "markdown",
      "metadata": {
        "id": "C4JxI_UQq_in"
      },
      "source": [
        "\n",
        "We can ask if the tweets obtained by the search represent one large conversation or many small conversations; broadly speaking, each weakly-connected component represents a conversation."
      ]
    },
    {
      "cell_type": "code",
      "metadata": {
        "id": "ovAtnR0mvS2H",
        "colab": {
          "base_uri": "https://localhost:8080/"
        },
        "outputId": "bb56bf2f-629d-41c3-8be4-bc640318383a"
      },
      "source": [
        "nx.is_weakly_connected(D)"
      ],
      "execution_count": null,
      "outputs": [
        {
          "output_type": "execute_result",
          "data": {
            "text/plain": [
              "False"
            ]
          },
          "metadata": {},
          "execution_count": 43
        }
      ]
    },
    {
      "cell_type": "code",
      "metadata": {
        "id": "6RzDNKeuvS2H",
        "colab": {
          "base_uri": "https://localhost:8080/"
        },
        "outputId": "4b226371-0896-4df3-c1b9-1fa951a37cdc"
      },
      "source": [
        "nx.number_weakly_connected_components(D)"
      ],
      "execution_count": null,
      "outputs": [
        {
          "output_type": "execute_result",
          "data": {
            "text/plain": [
              "2453"
            ]
          },
          "metadata": {},
          "execution_count": 44
        }
      ]
    },
    {
      "cell_type": "markdown",
      "metadata": {
        "id": "if3Q37olvS2H"
      },
      "source": [
        "### 6.2.4 Drawing\n"
      ]
    },
    {
      "cell_type": "markdown",
      "metadata": {
        "id": "3KK4uatvrKCu"
      },
      "source": [
        "\n",
        "We can try to draw this graph with the nodes sized by their out-strength:"
      ]
    },
    {
      "cell_type": "code",
      "metadata": {
        "id": "AzVkPs8kvS2H"
      },
      "source": [
        "#node_sizes = [D.out_degree(n, weight='weight') * 50 for n in D.nodes]\n",
        "\n",
        "%matplotlib inline\n",
        "#nx.draw(D, node_size=node_sizes)\n",
        "nx.draw(D)"
      ],
      "execution_count": null,
      "outputs": []
    },
    {
      "cell_type": "markdown",
      "metadata": {
        "id": "CCunfNkovS2H"
      },
      "source": [
        "Note that in this simplistic drawing, nodes with zero out-strength are not drawn on the diagram because their size is 0. This suits us fine; only the users who have been retweeted are drawn here."
      ]
    },
    {
      "cell_type": "markdown",
      "metadata": {
        "id": "dAvZwYXnri4N"
      },
      "source": [
        "\n",
        "Another Twitter interaction between users occurs when one user mentions another in a tweet by their @screen_name. As an example, consider the following hypothetical tweet from @osome_iu:\n",
        "\n",
        "> Check out the new research from @IUSICE and @USC_ISI https://...\n",
        "\n",
        "From this tweet we would create two edges:\n",
        "\n",
        "    ('osome_iu', 'IUSICE')\n",
        "    ('osome_iu', 'USC_ISI')\n",
        "\n",
        "It's up to us which direction we draw these edges, but we should be consistent. In this example, we will draw edges in the direction of attention flow: @osome_iu is giving attention to @IUSICE and @USC_ISI.\n"
      ]
    }
  ]
}