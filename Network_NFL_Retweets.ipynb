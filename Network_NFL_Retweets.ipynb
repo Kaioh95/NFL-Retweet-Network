{
  "nbformat": 4,
  "nbformat_minor": 0,
  "metadata": {
    "colab": {
      "name": "Network-NFL-Retweets.ipynb",
      "provenance": [],
      "collapsed_sections": []
    },
    "kernelspec": {
      "name": "python3",
      "display_name": "Python 3"
    },
    "language_info": {
      "name": "python"
    }
  },
  "cells": [
    {
      "cell_type": "markdown",
      "source": [
        "**Students:**\n",
        "- Alexandre Alves\n",
        "- Francisco de Assis\n",
        "- Kaio Henrique"
      ],
      "metadata": {
        "id": "n55oiFFonLeq"
      }
    },
    {
      "cell_type": "code",
      "execution_count": null,
      "metadata": {
        "id": "m_lF-dtT9B2D"
      },
      "outputs": [],
      "source": [
        "import networkx as nx\n",
        "import matplotlib.pyplot as plt\n",
        "import matplotlib.patches as mpatches\n",
        "import pandas as pd\n",
        "import numpy as np\n",
        "import seaborn as sns\n",
        "from operator import itemgetter\n",
        "import pprint"
      ]
    },
    {
      "cell_type": "code",
      "source": [
        "Dg = nx.read_graphml(\"NFL-2022-02-15.graphml\")"
      ],
      "metadata": {
        "id": "2kYESEK7NScl"
      },
      "execution_count": null,
      "outputs": []
    },
    {
      "cell_type": "markdown",
      "source": [
        "# Degree"
      ],
      "metadata": {
        "id": "ve2yfCP8Pc0W"
      }
    },
    {
      "cell_type": "markdown",
      "source": [
        "Como poderemos ver a seguir, a maioria dos nós possui tanto um out degree quanto um in degree bem baixo, próximo de zero. Dada a nossa rede de estudo isso faz sentido visto que a maioria das pessoas não retweeta ou tem retweets da maioria das pessoas da rede."
      ],
      "metadata": {
        "id": "qasBdBczPy5c"
      }
    },
    {
      "cell_type": "code",
      "source": [
        "degreeDict = nx.degree_centrality(Dg)"
      ],
      "metadata": {
        "id": "J1udvvV2ZogK"
      },
      "execution_count": null,
      "outputs": []
    },
    {
      "cell_type": "code",
      "source": [
        "indegreeDict = nx.in_degree_centrality(Dg)\n",
        "outdegreeDict = nx.out_degree_centrality(Dg)\n",
        "\n",
        "fig, ax =plt.subplots(1,2, figsize=(14, 7))\n",
        "\n",
        "sns.histplot(indegreeDict, ax=ax[0], kde=True)\n",
        "sns.histplot(outdegreeDict, ax=ax[1], kde=True)\n",
        "fig.show()"
      ],
      "metadata": {
        "id": "gQ6O40OSPeYd",
        "colab": {
          "base_uri": "https://localhost:8080/",
          "height": 428
        },
        "outputId": "c34635ac-8705-4a9c-fa53-ca9caccd5621"
      },
      "execution_count": null,
      "outputs": [
        {
          "output_type": "display_data",
          "data": {
            "image/png": "[encoded data removed]",
            "text/plain": [
              "<Figure size 1008x504 with 2 Axes>"
            ]
          },
          "metadata": {
            "needs_background": "light"
          }
        }
      ]
    },
    {
      "cell_type": "markdown",
      "source": [
        "Também faz sentido que a outdegree centrality apresente valores maiores do que a indegree centrality visto que é de conhecimento comum que contas do twitter mais conhecidas podem receber milhares de retweets diariamente enquanto uma única pessoa não consegue fazer mais que uma centena por dia.\n"
      ],
      "metadata": {
        "id": "rmMcOAB0rjAq"
      }
    },
    {
      "cell_type": "code",
      "source": [
        "print(\"Outdegree centrality top 10 nodes\")\n",
        "pprint.pprint({key: outdegreeDict[key] for key in sorted(outdegreeDict, key=outdegreeDict.get, reverse=True)[:10]})\n",
        "print(\"Indegree centrality top 10 nodes\")\n",
        "pprint.pprint({key: indegreeDict[key] for key in sorted(indegreeDict, key=indegreeDict.get, reverse=True)[:10]})"
      ],
      "metadata": {
        "id": "BAcJ7I55rkP2",
        "outputId": "85bf9399-9fb4-435a-9438-ad8499c89133",
        "colab": {
          "base_uri": "https://localhost:8080/"
        }
      },
      "execution_count": null,
      "outputs": [
        {
          "output_type": "stream",
          "name": "stdout",
          "text": [
            "Outdegree centrality top 10 nodes\n",
            "{'1218Sports': 0.02111988280296248,\n",
            " 'Brother_nfts': 0.06278994058761293,\n",
            " 'Endzone_Brasil': 0.04773337673964353,\n",
            " 'OddsCheckerUS': 0.019614226418165542,\n",
            " 'ShibaNFTXRPL': 0.010173353951330675,\n",
            " 'UndergroundBrks': 0.013917148205420364,\n",
            " 'WCoastScouting': 0.019247985675917637,\n",
            " 'jollenelevid': 0.01985838691299748,\n",
            " 'nflextra': 0.011475543257101001,\n",
            " 'nflrums': 0.010336127614551965}\n",
            "Indegree centrality top 10 nodes\n",
            "{'FranchiseTagUK': 0.000691788068690486,\n",
            " 'MikePrE57': 0.0006104012370798405,\n",
            " 'NFLProPicks': 0.0006510946528851632,\n",
            " 'NFLdeutsch': 0.0013428827215756492,\n",
            " 'SportsTimeHQ': 0.0006510946528851632,\n",
            " 'TITTHJB': 0.0010173353951330676,\n",
            " 'nflttbr': 0.0022381378692927483,\n",
            " 'theffrobot': 0.0026450720273459754,\n",
            " 'topfanscorner': 0.0014649629689916172,\n",
            " 'touchdownbot': 0.0023602181167087168}\n"
          ]
        }
      ]
    },
    {
      "cell_type": "code",
      "source": [
        "degreeArray = []\n",
        "\n",
        "for key, value in dict(Dg.out_degree()).items():\n",
        "    degreeArray.append([key, value])\n",
        "degreeDF = pd.DataFrame(degreeArray, columns=[\"screen_name\", \"degree\"])\n",
        "\n",
        "degreeDF = degreeDF.sort_values(by=\"degree\", ascending=False)\n",
        "degreeDF.head(10)"
      ],
      "metadata": {
        "colab": {
          "base_uri": "https://localhost:8080/",
          "height": 363
        },
        "id": "-UtXlSpHPs6m",
        "outputId": "e705b0fd-2d6d-4728-b9c8-29527239d429"
      },
      "execution_count": null,
      "outputs": [
        {
          "output_type": "execute_result",
          "data": {
            "text/html": [
              "\n",
              "  <div id=\"df-439fab77-a707-4144-9752-837680007989\">\n",
              "    <div class=\"colab-df-container\">\n",
              "      <div>\n",
              "<style scoped>\n",
              "    .dataframe tbody tr th:only-of-type {\n",
              "        vertical-align: middle;\n",
              "    }\n",
              "\n",
              "    .dataframe tbody tr th {\n",
              "        vertical-align: top;\n",
              "    }\n",
              "\n",
              "    .dataframe thead th {\n",
              "        text-align: right;\n",
              "    }\n",
              "</style>\n",
              "<table border=\"1\" class=\"dataframe\">\n",
              "  <thead>\n",
              "    <tr style=\"text-align: right;\">\n",
              "      <th></th>\n",
              "      <th>screen_name</th>\n",
              "      <th>degree</th>\n",
              "    </tr>\n",
              "  </thead>\n",
              "  <tbody>\n",
              "    <tr>\n",
              "      <th>1089</th>\n",
              "      <td>Brother_nfts</td>\n",
              "      <td>1543</td>\n",
              "    </tr>\n",
              "    <tr>\n",
              "      <th>85</th>\n",
              "      <td>Endzone_Brasil</td>\n",
              "      <td>1173</td>\n",
              "    </tr>\n",
              "    <tr>\n",
              "      <th>1020</th>\n",
              "      <td>1218Sports</td>\n",
              "      <td>519</td>\n",
              "    </tr>\n",
              "    <tr>\n",
              "      <th>986</th>\n",
              "      <td>jollenelevid</td>\n",
              "      <td>488</td>\n",
              "    </tr>\n",
              "    <tr>\n",
              "      <th>588</th>\n",
              "      <td>OddsCheckerUS</td>\n",
              "      <td>482</td>\n",
              "    </tr>\n",
              "    <tr>\n",
              "      <th>1779</th>\n",
              "      <td>WCoastScouting</td>\n",
              "      <td>473</td>\n",
              "    </tr>\n",
              "    <tr>\n",
              "      <th>433</th>\n",
              "      <td>UndergroundBrks</td>\n",
              "      <td>342</td>\n",
              "    </tr>\n",
              "    <tr>\n",
              "      <th>105</th>\n",
              "      <td>nflextra</td>\n",
              "      <td>282</td>\n",
              "    </tr>\n",
              "    <tr>\n",
              "      <th>118</th>\n",
              "      <td>nflrums</td>\n",
              "      <td>254</td>\n",
              "    </tr>\n",
              "    <tr>\n",
              "      <th>1175</th>\n",
              "      <td>ShibaNFTXRPL</td>\n",
              "      <td>250</td>\n",
              "    </tr>\n",
              "  </tbody>\n",
              "</table>\n",
              "</div>\n",
              "      <button class=\"colab-df-convert\" onclick=\"convertToInteractive('df-439fab77-a707-4144-9752-837680007989')\"\n",
              "              title=\"Convert this dataframe to an interactive table.\"\n",
              "              style=\"display:none;\">\n",
              "        \n",
              "  <svg xmlns=\"http://www.w3.org/2000/svg\" height=\"24px\"viewBox=\"0 0 24 24\"\n",
              "       width=\"24px\">\n",
              "    <path d=\"M0 0h24v24H0V0z\" fill=\"none\"/>\n",
              "    <path d=\"M18.56 5.44l.94 2.06.94-2.06 2.06-.94-2.06-.94-.94-2.06-.94 2.06-2.06.94zm-11 1L8.5 8.5l.94-2.06 2.06-.94-2.06-.94L8.5 2.5l-.94 2.06-2.06.94zm10 10l.94 2.06.94-2.06 2.06-.94-2.06-.94-.94-2.06-.94 2.06-2.06.94z\"/><path d=\"M17.41 7.96l-1.37-1.37c-.4-.4-.92-.59-1.43-.59-.52 0-1.04.2-1.43.59L10.3 9.45l-7.72 7.72c-.78.78-.78 2.05 0 2.83L4 21.41c.39.39.9.59 1.41.59.51 0 1.02-.2 1.41-.59l7.78-7.78 2.81-2.81c.8-.78.8-2.07 0-2.86zM5.41 20L4 18.59l7.72-7.72 1.47 1.35L5.41 20z\"/>\n",
              "  </svg>\n",
              "      </button>\n",
              "      \n",
              "  <style>\n",
              "    .colab-df-container {\n",
              "      display:flex;\n",
              "      flex-wrap:wrap;\n",
              "      gap: 12px;\n",
              "    }\n",
              "\n",
              "    .colab-df-convert {\n",
              "      background-color: #E8F0FE;\n",
              "      border: none;\n",
              "      border-radius: 50%;\n",
              "      cursor: pointer;\n",
              "      display: none;\n",
              "      fill: #1967D2;\n",
              "      height: 32px;\n",
              "      padding: 0 0 0 0;\n",
              "      width: 32px;\n",
              "    }\n",
              "\n",
              "    .colab-df-convert:hover {\n",
              "      background-color: #E2EBFA;\n",
              "      box-shadow: 0px 1px 2px rgba(60, 64, 67, 0.3), 0px 1px 3px 1px rgba(60, 64, 67, 0.15);\n",
              "      fill: #174EA6;\n",
              "    }\n",
              "\n",
              "    [theme=dark] .colab-df-convert {\n",
              "      background-color: #3B4455;\n",
              "      fill: #D2E3FC;\n",
              "    }\n",
              "\n",
              "    [theme=dark] .colab-df-convert:hover {\n",
              "      background-color: #434B5C;\n",
              "      box-shadow: 0px 1px 3px 1px rgba(0, 0, 0, 0.15);\n",
              "      filter: drop-shadow(0px 1px 2px rgba(0, 0, 0, 0.3));\n",
              "      fill: #FFFFFF;\n",
              "    }\n",
              "  </style>\n",
              "\n",
              "      <script>\n",
              "        const buttonEl =\n",
              "          document.querySelector('#df-439fab77-a707-4144-9752-837680007989 button.colab-df-convert');\n",
              "        buttonEl.style.display =\n",
              "          google.colab.kernel.accessAllowed ? 'block' : 'none';\n",
              "\n",
              "        async function convertToInteractive(key) {\n",
              "          const element = document.querySelector('#df-439fab77-a707-4144-9752-837680007989');\n",
              "          const dataTable =\n",
              "            await google.colab.kernel.invokeFunction('convertToInteractive',\n",
              "                                                     [key], {});\n",
              "          if (!dataTable) return;\n",
              "\n",
              "          const docLinkHtml = 'Like what you see? Visit the ' +\n",
              "            '<a target=\"_blank\" href=https://colab.research.google.com/notebooks/data_table.ipynb>data table notebook</a>'\n",
              "            + ' to learn more about interactive tables.';\n",
              "          element.innerHTML = '';\n",
              "          dataTable['output_type'] = 'display_data';\n",
              "          await google.colab.output.renderOutput(dataTable, element);\n",
              "          const docLink = document.createElement('div');\n",
              "          docLink.innerHTML = docLinkHtml;\n",
              "          element.appendChild(docLink);\n",
              "        }\n",
              "      </script>\n",
              "    </div>\n",
              "  </div>\n",
              "  "
            ],
            "text/plain": [
              "          screen_name  degree\n",
              "1089     Brother_nfts    1543\n",
              "85     Endzone_Brasil    1173\n",
              "1020       1218Sports     519\n",
              "986      jollenelevid     488\n",
              "588     OddsCheckerUS     482\n",
              "1779   WCoastScouting     473\n",
              "433   UndergroundBrks     342\n",
              "105          nflextra     282\n",
              "118           nflrums     254\n",
              "1175     ShibaNFTXRPL     250"
            ]
          },
          "metadata": {},
          "execution_count": 19
        }
      ]
    },
    {
      "cell_type": "code",
      "source": [
        "degreeList= []\n",
        "\n",
        "for key, value in dict(Dg.out_degree()).items():\n",
        "    degreeList.append(value)\n",
        "\n",
        "sns.boxplot(x=degreeList)"
      ],
      "metadata": {
        "colab": {
          "base_uri": "https://localhost:8080/",
          "height": 282
        },
        "id": "Jb_JcsiFak_C",
        "outputId": "26a76ed9-de77-4bd0-fa42-9f4ae4b0f7bf"
      },
      "execution_count": null,
      "outputs": [
        {
          "output_type": "execute_result",
          "data": {
            "text/plain": [
              "<matplotlib.axes._subplots.AxesSubplot at 0x7f98a24c1990>"
            ]
          },
          "metadata": {},
          "execution_count": 4
        },
        {
          "output_type": "display_data",
          "data": {
            "image/png": "[encoded data removed]",
            "text/plain": [
              "<Figure size 432x288 with 1 Axes>"
            ]
          },
          "metadata": {
            "needs_background": "light"
          }
        }
      ]
    },
    {
      "cell_type": "code",
      "source": [
        "from google.colab import drive\n",
        "drive.mount('/content/drive')"
      ],
      "metadata": {
        "colab": {
          "base_uri": "https://localhost:8080/"
        },
        "id": "nMoKH-25Lm37",
        "outputId": "ade9e4ab-e448-4e3f-ca4f-13117c932bda"
      },
      "execution_count": null,
      "outputs": [
        {
          "output_type": "stream",
          "name": "stdout",
          "text": [
            "Mounted at /content/drive\n"
          ]
        }
      ]
    },
    {
      "cell_type": "markdown",
      "source": [
        "# Closeness"
      ],
      "metadata": {
        "id": "4PRyoP7UTCEH"
      }
    },
    {
      "cell_type": "markdown",
      "source": [
        "Neste tópico abordaremos o *closeness* dos **Nós**, ou melhor, a proximidade que cada Nó tem com os demais da rede, em o nosso contexto tal métrica pode ser interpretada como o caminho que uma conta tem através de retweets em comum. Observe a seguir:"
      ],
      "metadata": {
        "id": "viC3d9uzcVbt"
      }
    },
    {
      "cell_type": "code",
      "source": [
        "closenessDict = nx.closeness_centrality(Dg)"
      ],
      "metadata": {
        "id": "ynnz34iPZW6z"
      },
      "execution_count": null,
      "outputs": []
    },
    {
      "cell_type": "code",
      "source": [
        "closenessArray = []\n",
        "\n",
        "for key, value in dict(closenessDict).items():\n",
        "    closenessArray.append([key, value])\n",
        "closenessDF = pd.DataFrame(closenessArray, columns=[\"screen_name\", \"closeness\"])\n",
        "\n",
        "closenessDF = closenessDF.sort_values(by=\"closeness\", ascending=False)\n",
        "closenessDF.head(10)"
      ],
      "metadata": {
        "colab": {
          "base_uri": "https://localhost:8080/",
          "height": 363
        },
        "id": "rJElKTY0TnN2",
        "outputId": "24affdc9-de2b-4f4e-9974-f4705e58ba22"
      },
      "execution_count": null,
      "outputs": [
        {
          "output_type": "execute_result",
          "data": {
            "text/html": [
              "\n",
              "  <div id=\"df-6670644f-a7f9-4fb7-a238-ff6a85612fee\">\n",
              "    <div class=\"colab-df-container\">\n",
              "      <div>\n",
              "<style scoped>\n",
              "    .dataframe tbody tr th:only-of-type {\n",
              "        vertical-align: middle;\n",
              "    }\n",
              "\n",
              "    .dataframe tbody tr th {\n",
              "        vertical-align: top;\n",
              "    }\n",
              "\n",
              "    .dataframe thead th {\n",
              "        text-align: right;\n",
              "    }\n",
              "</style>\n",
              "<table border=\"1\" class=\"dataframe\">\n",
              "  <thead>\n",
              "    <tr style=\"text-align: right;\">\n",
              "      <th></th>\n",
              "      <th>screen_name</th>\n",
              "      <th>closeness</th>\n",
              "    </tr>\n",
              "  </thead>\n",
              "  <tbody>\n",
              "    <tr>\n",
              "      <th>2513</th>\n",
              "      <td>theffrobot</td>\n",
              "      <td>0.002398</td>\n",
              "    </tr>\n",
              "    <tr>\n",
              "      <th>2267</th>\n",
              "      <td>touchdownbot</td>\n",
              "      <td>0.002323</td>\n",
              "    </tr>\n",
              "    <tr>\n",
              "      <th>1297</th>\n",
              "      <td>nflttbr</td>\n",
              "      <td>0.002244</td>\n",
              "    </tr>\n",
              "    <tr>\n",
              "      <th>2899</th>\n",
              "      <td>topfanscorner</td>\n",
              "      <td>0.001436</td>\n",
              "    </tr>\n",
              "    <tr>\n",
              "      <th>9041</th>\n",
              "      <td>NFLdeutsch</td>\n",
              "      <td>0.001346</td>\n",
              "    </tr>\n",
              "    <tr>\n",
              "      <th>13797</th>\n",
              "      <td>TITTHJB</td>\n",
              "      <td>0.001088</td>\n",
              "    </tr>\n",
              "    <tr>\n",
              "      <th>21064</th>\n",
              "      <td>Margari62004809</td>\n",
              "      <td>0.001039</td>\n",
              "    </tr>\n",
              "    <tr>\n",
              "      <th>10626</th>\n",
              "      <td>madisonlake606</td>\n",
              "      <td>0.001028</td>\n",
              "    </tr>\n",
              "    <tr>\n",
              "      <th>4041</th>\n",
              "      <td>SportsCardBOT</td>\n",
              "      <td>0.000987</td>\n",
              "    </tr>\n",
              "    <tr>\n",
              "      <th>6289</th>\n",
              "      <td>Sabrina63967774</td>\n",
              "      <td>0.000967</td>\n",
              "    </tr>\n",
              "  </tbody>\n",
              "</table>\n",
              "</div>\n",
              "      <button class=\"colab-df-convert\" onclick=\"convertToInteractive('df-6670644f-a7f9-4fb7-a238-ff6a85612fee')\"\n",
              "              title=\"Convert this dataframe to an interactive table.\"\n",
              "              style=\"display:none;\">\n",
              "        \n",
              "  <svg xmlns=\"http://www.w3.org/2000/svg\" height=\"24px\"viewBox=\"0 0 24 24\"\n",
              "       width=\"24px\">\n",
              "    <path d=\"M0 0h24v24H0V0z\" fill=\"none\"/>\n",
              "    <path d=\"M18.56 5.44l.94 2.06.94-2.06 2.06-.94-2.06-.94-.94-2.06-.94 2.06-2.06.94zm-11 1L8.5 8.5l.94-2.06 2.06-.94-2.06-.94L8.5 2.5l-.94 2.06-2.06.94zm10 10l.94 2.06.94-2.06 2.06-.94-2.06-.94-.94-2.06-.94 2.06-2.06.94z\"/><path d=\"M17.41 7.96l-1.37-1.37c-.4-.4-.92-.59-1.43-.59-.52 0-1.04.2-1.43.59L10.3 9.45l-7.72 7.72c-.78.78-.78 2.05 0 2.83L4 21.41c.39.39.9.59 1.41.59.51 0 1.02-.2 1.41-.59l7.78-7.78 2.81-2.81c.8-.78.8-2.07 0-2.86zM5.41 20L4 18.59l7.72-7.72 1.47 1.35L5.41 20z\"/>\n",
              "  </svg>\n",
              "      </button>\n",
              "      \n",
              "  <style>\n",
              "    .colab-df-container {\n",
              "      display:flex;\n",
              "      flex-wrap:wrap;\n",
              "      gap: 12px;\n",
              "    }\n",
              "\n",
              "    .colab-df-convert {\n",
              "      background-color: #E8F0FE;\n",
              "      border: none;\n",
              "      border-radius: 50%;\n",
              "      cursor: pointer;\n",
              "      display: none;\n",
              "      fill: #1967D2;\n",
              "      height: 32px;\n",
              "      padding: 0 0 0 0;\n",
              "      width: 32px;\n",
              "    }\n",
              "\n",
              "    .colab-df-convert:hover {\n",
              "      background-color: #E2EBFA;\n",
              "      box-shadow: 0px 1px 2px rgba(60, 64, 67, 0.3), 0px 1px 3px 1px rgba(60, 64, 67, 0.15);\n",
              "      fill: #174EA6;\n",
              "    }\n",
              "\n",
              "    [theme=dark] .colab-df-convert {\n",
              "      background-color: #3B4455;\n",
              "      fill: #D2E3FC;\n",
              "    }\n",
              "\n",
              "    [theme=dark] .colab-df-convert:hover {\n",
              "      background-color: #434B5C;\n",
              "      box-shadow: 0px 1px 3px 1px rgba(0, 0, 0, 0.15);\n",
              "      filter: drop-shadow(0px 1px 2px rgba(0, 0, 0, 0.3));\n",
              "      fill: #FFFFFF;\n",
              "    }\n",
              "  </style>\n",
              "\n",
              "      <script>\n",
              "        const buttonEl =\n",
              "          document.querySelector('#df-6670644f-a7f9-4fb7-a238-ff6a85612fee button.colab-df-convert');\n",
              "        buttonEl.style.display =\n",
              "          google.colab.kernel.accessAllowed ? 'block' : 'none';\n",
              "\n",
              "        async function convertToInteractive(key) {\n",
              "          const element = document.querySelector('#df-6670644f-a7f9-4fb7-a238-ff6a85612fee');\n",
              "          const dataTable =\n",
              "            await google.colab.kernel.invokeFunction('convertToInteractive',\n",
              "                                                     [key], {});\n",
              "          if (!dataTable) return;\n",
              "\n",
              "          const docLinkHtml = 'Like what you see? Visit the ' +\n",
              "            '<a target=\"_blank\" href=https://colab.research.google.com/notebooks/data_table.ipynb>data table notebook</a>'\n",
              "            + ' to learn more about interactive tables.';\n",
              "          element.innerHTML = '';\n",
              "          dataTable['output_type'] = 'display_data';\n",
              "          await google.colab.output.renderOutput(dataTable, element);\n",
              "          const docLink = document.createElement('div');\n",
              "          docLink.innerHTML = docLinkHtml;\n",
              "          element.appendChild(docLink);\n",
              "        }\n",
              "      </script>\n",
              "    </div>\n",
              "  </div>\n",
              "  "
            ],
            "text/plain": [
              "           screen_name  closeness\n",
              "2513        theffrobot   0.002398\n",
              "2267      touchdownbot   0.002323\n",
              "1297           nflttbr   0.002244\n",
              "2899     topfanscorner   0.001436\n",
              "9041        NFLdeutsch   0.001346\n",
              "13797          TITTHJB   0.001088\n",
              "21064  Margari62004809   0.001039\n",
              "10626   madisonlake606   0.001028\n",
              "4041     SportsCardBOT   0.000987\n",
              "6289   Sabrina63967774   0.000967"
            ]
          },
          "metadata": {},
          "execution_count": 8
        }
      ]
    },
    {
      "cell_type": "markdown",
      "source": [
        "Como foi visto na última seção do `colab` onde buscamos os dados para análise, é pontuado a quantidade de pequenas comunidades que o grafo possui, isso significa que o grafo se torna muito espesso gerando uma longa distãncia entre cada nó com os demais a qual estão de alguma forma ligados. Percebe-se na tabela que mesmo a conta que possui maior valor de proximidade (theffrobot), tem um valor muito pequeno, e que diminui rapidamente até a décima colocação, mostrando o quão subdividida e ampla é as conexões do Twitter."
      ],
      "metadata": {
        "id": "K36dhdmJB5LT"
      }
    },
    {
      "cell_type": "code",
      "source": [
        "sns.displot(closenessDF.closeness)"
      ],
      "metadata": {
        "colab": {
          "base_uri": "https://localhost:8080/",
          "height": 386
        },
        "id": "iHpH9UPAdNf0",
        "outputId": "89bf1063-352e-443f-f710-d23b1dacd5f8"
      },
      "execution_count": null,
      "outputs": [
        {
          "output_type": "execute_result",
          "data": {
            "text/plain": [
              "<seaborn.axisgrid.FacetGrid at 0x7eff6c421410>"
            ]
          },
          "metadata": {},
          "execution_count": 9
        },
        {
          "output_type": "display_data",
          "data": {
            "image/png": "[encoded data removed]",
            "text/plain": [
              "<Figure size 360x360 with 1 Axes>"
            ]
          },
          "metadata": {
            "needs_background": "light"
          }
        }
      ]
    },
    {
      "cell_type": "markdown",
      "source": [
        "# Betweenness"
      ],
      "metadata": {
        "id": "R6nYsCODTGbF"
      }
    },
    {
      "cell_type": "markdown",
      "source": [
        "Tendo em mente como um fluxo de informações em redes sociais funcionam, é pertinente o interesse sobre por onde esses dados se ligam e como eles percorrem a rede, e consequentemente por onde eles mais transitam, e é exatamente isso que é calculado utilizando intermediação, ou como descrito no tópico, o *betweenness*, que nos mostra as contas que têm maior intermédio entre dados."
      ],
      "metadata": {
        "id": "j1nI7v9TH8fz"
      }
    },
    {
      "cell_type": "code",
      "source": [
        "betweennessDict = nx.betweenness_centrality(Dg)"
      ],
      "metadata": {
        "id": "XeB7LXSYT8w3"
      },
      "execution_count": null,
      "outputs": []
    },
    {
      "cell_type": "code",
      "source": [
        "betweennessArray = []\n",
        "\n",
        "for key, value in dict(betweennessDict).items():\n",
        "    betweennessArray.append([key, value])\n",
        "betweennessDF = pd.DataFrame(betweennessArray, columns=[\"screen_name\", \"betweenness\"])\n",
        "\n",
        "betweennessDF = betweennessDF.sort_values(by=\"betweenness\", ascending=False)\n",
        "betweennessDF.head(10)"
      ],
      "metadata": {
        "colab": {
          "base_uri": "https://localhost:8080/",
          "height": 363
        },
        "id": "7NVQko5FT_mV",
        "outputId": "a651ffb3-832d-4e9d-af41-232cda3e0b63"
      },
      "execution_count": null,
      "outputs": [
        {
          "output_type": "execute_result",
          "data": {
            "text/html": [
              "\n",
              "  <div id=\"df-6399d8a0-bdf4-44f9-89d4-34baad69c145\">\n",
              "    <div class=\"colab-df-container\">\n",
              "      <div>\n",
              "<style scoped>\n",
              "    .dataframe tbody tr th:only-of-type {\n",
              "        vertical-align: middle;\n",
              "    }\n",
              "\n",
              "    .dataframe tbody tr th {\n",
              "        vertical-align: top;\n",
              "    }\n",
              "\n",
              "    .dataframe thead th {\n",
              "        text-align: right;\n",
              "    }\n",
              "</style>\n",
              "<table border=\"1\" class=\"dataframe\">\n",
              "  <thead>\n",
              "    <tr style=\"text-align: right;\">\n",
              "      <th></th>\n",
              "      <th>screen_name</th>\n",
              "      <th>betweenness</th>\n",
              "    </tr>\n",
              "  </thead>\n",
              "  <tbody>\n",
              "    <tr>\n",
              "      <th>4400</th>\n",
              "      <td>PatriotsGirlUSA</td>\n",
              "      <td>7.486278e-06</td>\n",
              "    </tr>\n",
              "    <tr>\n",
              "      <th>7596</th>\n",
              "      <td>PTSportsFix</td>\n",
              "      <td>7.233750e-06</td>\n",
              "    </tr>\n",
              "    <tr>\n",
              "      <th>9100</th>\n",
              "      <td>GoodOldBoysFF</td>\n",
              "      <td>2.403368e-06</td>\n",
              "    </tr>\n",
              "    <tr>\n",
              "      <th>80</th>\n",
              "      <td>Broadwayhatpod</td>\n",
              "      <td>2.201420e-06</td>\n",
              "    </tr>\n",
              "    <tr>\n",
              "      <th>2899</th>\n",
              "      <td>topfanscorner</td>\n",
              "      <td>2.083275e-06</td>\n",
              "    </tr>\n",
              "    <tr>\n",
              "      <th>9402</th>\n",
              "      <td>PeterSaverio</td>\n",
              "      <td>1.825413e-06</td>\n",
              "    </tr>\n",
              "    <tr>\n",
              "      <th>4019</th>\n",
              "      <td>sportingbuzz_</td>\n",
              "      <td>1.343033e-06</td>\n",
              "    </tr>\n",
              "    <tr>\n",
              "      <th>6292</th>\n",
              "      <td>PigskinPapers</td>\n",
              "      <td>1.232857e-06</td>\n",
              "    </tr>\n",
              "    <tr>\n",
              "      <th>11658</th>\n",
              "      <td>ELONONE3</td>\n",
              "      <td>9.464163e-07</td>\n",
              "    </tr>\n",
              "    <tr>\n",
              "      <th>12680</th>\n",
              "      <td>AATSports_</td>\n",
              "      <td>8.631894e-07</td>\n",
              "    </tr>\n",
              "  </tbody>\n",
              "</table>\n",
              "</div>\n",
              "      <button class=\"colab-df-convert\" onclick=\"convertToInteractive('df-6399d8a0-bdf4-44f9-89d4-34baad69c145')\"\n",
              "              title=\"Convert this dataframe to an interactive table.\"\n",
              "              style=\"display:none;\">\n",
              "        \n",
              "  <svg xmlns=\"http://www.w3.org/2000/svg\" height=\"24px\"viewBox=\"0 0 24 24\"\n",
              "       width=\"24px\">\n",
              "    <path d=\"M0 0h24v24H0V0z\" fill=\"none\"/>\n",
              "    <path d=\"M18.56 5.44l.94 2.06.94-2.06 2.06-.94-2.06-.94-.94-2.06-.94 2.06-2.06.94zm-11 1L8.5 8.5l.94-2.06 2.06-.94-2.06-.94L8.5 2.5l-.94 2.06-2.06.94zm10 10l.94 2.06.94-2.06 2.06-.94-2.06-.94-.94-2.06-.94 2.06-2.06.94z\"/><path d=\"M17.41 7.96l-1.37-1.37c-.4-.4-.92-.59-1.43-.59-.52 0-1.04.2-1.43.59L10.3 9.45l-7.72 7.72c-.78.78-.78 2.05 0 2.83L4 21.41c.39.39.9.59 1.41.59.51 0 1.02-.2 1.41-.59l7.78-7.78 2.81-2.81c.8-.78.8-2.07 0-2.86zM5.41 20L4 18.59l7.72-7.72 1.47 1.35L5.41 20z\"/>\n",
              "  </svg>\n",
              "      </button>\n",
              "      \n",
              "  <style>\n",
              "    .colab-df-container {\n",
              "      display:flex;\n",
              "      flex-wrap:wrap;\n",
              "      gap: 12px;\n",
              "    }\n",
              "\n",
              "    .colab-df-convert {\n",
              "      background-color: #E8F0FE;\n",
              "      border: none;\n",
              "      border-radius: 50%;\n",
              "      cursor: pointer;\n",
              "      display: none;\n",
              "      fill: #1967D2;\n",
              "      height: 32px;\n",
              "      padding: 0 0 0 0;\n",
              "      width: 32px;\n",
              "    }\n",
              "\n",
              "    .colab-df-convert:hover {\n",
              "      background-color: #E2EBFA;\n",
              "      box-shadow: 0px 1px 2px rgba(60, 64, 67, 0.3), 0px 1px 3px 1px rgba(60, 64, 67, 0.15);\n",
              "      fill: #174EA6;\n",
              "    }\n",
              "\n",
              "    [theme=dark] .colab-df-convert {\n",
              "      background-color: #3B4455;\n",
              "      fill: #D2E3FC;\n",
              "    }\n",
              "\n",
              "    [theme=dark] .colab-df-convert:hover {\n",
              "      background-color: #434B5C;\n",
              "      box-shadow: 0px 1px 3px 1px rgba(0, 0, 0, 0.15);\n",
              "      filter: drop-shadow(0px 1px 2px rgba(0, 0, 0, 0.3));\n",
              "      fill: #FFFFFF;\n",
              "    }\n",
              "  </style>\n",
              "\n",
              "      <script>\n",
              "        const buttonEl =\n",
              "          document.querySelector('#df-6399d8a0-bdf4-44f9-89d4-34baad69c145 button.colab-df-convert');\n",
              "        buttonEl.style.display =\n",
              "          google.colab.kernel.accessAllowed ? 'block' : 'none';\n",
              "\n",
              "        async function convertToInteractive(key) {\n",
              "          const element = document.querySelector('#df-6399d8a0-bdf4-44f9-89d4-34baad69c145');\n",
              "          const dataTable =\n",
              "            await google.colab.kernel.invokeFunction('convertToInteractive',\n",
              "                                                     [key], {});\n",
              "          if (!dataTable) return;\n",
              "\n",
              "          const docLinkHtml = 'Like what you see? Visit the ' +\n",
              "            '<a target=\"_blank\" href=https://colab.research.google.com/notebooks/data_table.ipynb>data table notebook</a>'\n",
              "            + ' to learn more about interactive tables.';\n",
              "          element.innerHTML = '';\n",
              "          dataTable['output_type'] = 'display_data';\n",
              "          await google.colab.output.renderOutput(dataTable, element);\n",
              "          const docLink = document.createElement('div');\n",
              "          docLink.innerHTML = docLinkHtml;\n",
              "          element.appendChild(docLink);\n",
              "        }\n",
              "      </script>\n",
              "    </div>\n",
              "  </div>\n",
              "  "
            ],
            "text/plain": [
              "           screen_name   betweenness\n",
              "4400   PatriotsGirlUSA  7.486278e-06\n",
              "7596       PTSportsFix  7.233750e-06\n",
              "9100     GoodOldBoysFF  2.403368e-06\n",
              "80      Broadwayhatpod  2.201420e-06\n",
              "2899     topfanscorner  2.083275e-06\n",
              "9402      PeterSaverio  1.825413e-06\n",
              "4019     sportingbuzz_  1.343033e-06\n",
              "6292     PigskinPapers  1.232857e-06\n",
              "11658         ELONONE3  9.464163e-07\n",
              "12680       AATSports_  8.631894e-07"
            ]
          },
          "metadata": {},
          "execution_count": 9
        }
      ]
    },
    {
      "cell_type": "markdown",
      "source": [
        "Por termos uma grande rede com poucas conexões ligando as pequenas conversações existentes, obtemos um cálculo de *betweenness* que calcula as variáveis e retorna valores extremamente pequenos, mas que fazem sentido, pois a conta que possui maior valor, compartilha conteúdo dedicadamente sobre o tema que escolhemos."
      ],
      "metadata": {
        "id": "I3tH-_fvjhUO"
      }
    },
    {
      "cell_type": "markdown",
      "source": [
        "# EigenVector Centrality"
      ],
      "metadata": {
        "id": "x91A4TMhTOX1"
      }
    },
    {
      "cell_type": "markdown",
      "source": [
        "No contexto de grafos é interessante identificar a \"influência\" que cada **nó** exerce sobre os outros e assim determinar os **nós** que possuem mais \"importância\". Para entender melhor, cada **nó** em uma rede possui um grau de influência sobre os **nós** a qual eles estão ligados, assim eles exercem uma certa influência sobre os outros adjacentes e vice-versa."
      ],
      "metadata": {
        "id": "sAhD59D9OugV"
      }
    },
    {
      "cell_type": "code",
      "source": [
        "eigenvectorDict = nx.eigenvector_centrality(Dg)"
      ],
      "metadata": {
        "id": "C0bgasA8UHde"
      },
      "execution_count": null,
      "outputs": []
    },
    {
      "cell_type": "code",
      "source": [
        "eigenvectorArray = []\n",
        "\n",
        "for key, value in dict(eigenvectorDict).items():\n",
        "    eigenvectorArray.append([key, value])\n",
        "eigenvectorDF = pd.DataFrame(eigenvectorArray, columns=[\"screen_name\", \"eigenvector\"])\n",
        "\n",
        "eigenvectorDF = eigenvectorDF.sort_values(by=\"eigenvector\", ascending=False)\n",
        "eigenvectorDF.head(10)"
      ],
      "metadata": {
        "colab": {
          "base_uri": "https://localhost:8080/",
          "height": 363
        },
        "id": "onkuJbeaUH8F",
        "outputId": "88537bde-4d7a-475d-b160-324148c68726"
      },
      "execution_count": null,
      "outputs": [
        {
          "output_type": "execute_result",
          "data": {
            "text/html": [
              "\n",
              "  <div id=\"df-a148be1e-fba5-4216-aadf-c78eee9916a1\">\n",
              "    <div class=\"colab-df-container\">\n",
              "      <div>\n",
              "<style scoped>\n",
              "    .dataframe tbody tr th:only-of-type {\n",
              "        vertical-align: middle;\n",
              "    }\n",
              "\n",
              "    .dataframe tbody tr th {\n",
              "        vertical-align: top;\n",
              "    }\n",
              "\n",
              "    .dataframe thead th {\n",
              "        text-align: right;\n",
              "    }\n",
              "</style>\n",
              "<table border=\"1\" class=\"dataframe\">\n",
              "  <thead>\n",
              "    <tr style=\"text-align: right;\">\n",
              "      <th></th>\n",
              "      <th>screen_name</th>\n",
              "      <th>eigenvector</th>\n",
              "    </tr>\n",
              "  </thead>\n",
              "  <tbody>\n",
              "    <tr>\n",
              "      <th>13797</th>\n",
              "      <td>TITTHJB</td>\n",
              "      <td>0.264651</td>\n",
              "    </tr>\n",
              "    <tr>\n",
              "      <th>18184</th>\n",
              "      <td>Paul_Ryan15</td>\n",
              "      <td>0.203792</td>\n",
              "    </tr>\n",
              "    <tr>\n",
              "      <th>9403</th>\n",
              "      <td>MikePrE57</td>\n",
              "      <td>0.202336</td>\n",
              "    </tr>\n",
              "    <tr>\n",
              "      <th>13294</th>\n",
              "      <td>SportsTimeHQ</td>\n",
              "      <td>0.190476</td>\n",
              "    </tr>\n",
              "    <tr>\n",
              "      <th>3296</th>\n",
              "      <td>LogoHog</td>\n",
              "      <td>0.181380</td>\n",
              "    </tr>\n",
              "    <tr>\n",
              "      <th>7754</th>\n",
              "      <td>FIToday_</td>\n",
              "      <td>0.181380</td>\n",
              "    </tr>\n",
              "    <tr>\n",
              "      <th>10426</th>\n",
              "      <td>ChiefCFS</td>\n",
              "      <td>0.181380</td>\n",
              "    </tr>\n",
              "    <tr>\n",
              "      <th>17290</th>\n",
              "      <td>NFLProPicks</td>\n",
              "      <td>0.173513</td>\n",
              "    </tr>\n",
              "    <tr>\n",
              "      <th>11096</th>\n",
              "      <td>JNforsports</td>\n",
              "      <td>0.170853</td>\n",
              "    </tr>\n",
              "    <tr>\n",
              "      <th>12663</th>\n",
              "      <td>sportsblisswit1</td>\n",
              "      <td>0.170853</td>\n",
              "    </tr>\n",
              "  </tbody>\n",
              "</table>\n",
              "</div>\n",
              "      <button class=\"colab-df-convert\" onclick=\"convertToInteractive('df-a148be1e-fba5-4216-aadf-c78eee9916a1')\"\n",
              "              title=\"Convert this dataframe to an interactive table.\"\n",
              "              style=\"display:none;\">\n",
              "        \n",
              "  <svg xmlns=\"http://www.w3.org/2000/svg\" height=\"24px\"viewBox=\"0 0 24 24\"\n",
              "       width=\"24px\">\n",
              "    <path d=\"M0 0h24v24H0V0z\" fill=\"none\"/>\n",
              "    <path d=\"M18.56 5.44l.94 2.06.94-2.06 2.06-.94-2.06-.94-.94-2.06-.94 2.06-2.06.94zm-11 1L8.5 8.5l.94-2.06 2.06-.94-2.06-.94L8.5 2.5l-.94 2.06-2.06.94zm10 10l.94 2.06.94-2.06 2.06-.94-2.06-.94-.94-2.06-.94 2.06-2.06.94z\"/><path d=\"M17.41 7.96l-1.37-1.37c-.4-.4-.92-.59-1.43-.59-.52 0-1.04.2-1.43.59L10.3 9.45l-7.72 7.72c-.78.78-.78 2.05 0 2.83L4 21.41c.39.39.9.59 1.41.59.51 0 1.02-.2 1.41-.59l7.78-7.78 2.81-2.81c.8-.78.8-2.07 0-2.86zM5.41 20L4 18.59l7.72-7.72 1.47 1.35L5.41 20z\"/>\n",
              "  </svg>\n",
              "      </button>\n",
              "      \n",
              "  <style>\n",
              "    .colab-df-container {\n",
              "      display:flex;\n",
              "      flex-wrap:wrap;\n",
              "      gap: 12px;\n",
              "    }\n",
              "\n",
              "    .colab-df-convert {\n",
              "      background-color: #E8F0FE;\n",
              "      border: none;\n",
              "      border-radius: 50%;\n",
              "      cursor: pointer;\n",
              "      display: none;\n",
              "      fill: #1967D2;\n",
              "      height: 32px;\n",
              "      padding: 0 0 0 0;\n",
              "      width: 32px;\n",
              "    }\n",
              "\n",
              "    .colab-df-convert:hover {\n",
              "      background-color: #E2EBFA;\n",
              "      box-shadow: 0px 1px 2px rgba(60, 64, 67, 0.3), 0px 1px 3px 1px rgba(60, 64, 67, 0.15);\n",
              "      fill: #174EA6;\n",
              "    }\n",
              "\n",
              "    [theme=dark] .colab-df-convert {\n",
              "      background-color: #3B4455;\n",
              "      fill: #D2E3FC;\n",
              "    }\n",
              "\n",
              "    [theme=dark] .colab-df-convert:hover {\n",
              "      background-color: #434B5C;\n",
              "      box-shadow: 0px 1px 3px 1px rgba(0, 0, 0, 0.15);\n",
              "      filter: drop-shadow(0px 1px 2px rgba(0, 0, 0, 0.3));\n",
              "      fill: #FFFFFF;\n",
              "    }\n",
              "  </style>\n",
              "\n",
              "      <script>\n",
              "        const buttonEl =\n",
              "          document.querySelector('#df-a148be1e-fba5-4216-aadf-c78eee9916a1 button.colab-df-convert');\n",
              "        buttonEl.style.display =\n",
              "          google.colab.kernel.accessAllowed ? 'block' : 'none';\n",
              "\n",
              "        async function convertToInteractive(key) {\n",
              "          const element = document.querySelector('#df-a148be1e-fba5-4216-aadf-c78eee9916a1');\n",
              "          const dataTable =\n",
              "            await google.colab.kernel.invokeFunction('convertToInteractive',\n",
              "                                                     [key], {});\n",
              "          if (!dataTable) return;\n",
              "\n",
              "          const docLinkHtml = 'Like what you see? Visit the ' +\n",
              "            '<a target=\"_blank\" href=https://colab.research.google.com/notebooks/data_table.ipynb>data table notebook</a>'\n",
              "            + ' to learn more about interactive tables.';\n",
              "          element.innerHTML = '';\n",
              "          dataTable['output_type'] = 'display_data';\n",
              "          await google.colab.output.renderOutput(dataTable, element);\n",
              "          const docLink = document.createElement('div');\n",
              "          docLink.innerHTML = docLinkHtml;\n",
              "          element.appendChild(docLink);\n",
              "        }\n",
              "      </script>\n",
              "    </div>\n",
              "  </div>\n",
              "  "
            ],
            "text/plain": [
              "           screen_name  eigenvector\n",
              "13797          TITTHJB     0.264651\n",
              "18184      Paul_Ryan15     0.203792\n",
              "9403         MikePrE57     0.202336\n",
              "13294     SportsTimeHQ     0.190476\n",
              "3296           LogoHog     0.181380\n",
              "7754          FIToday_     0.181380\n",
              "10426         ChiefCFS     0.181380\n",
              "17290      NFLProPicks     0.173513\n",
              "11096      JNforsports     0.170853\n",
              "12663  sportsblisswit1     0.170853"
            ]
          },
          "metadata": {},
          "execution_count": 11
        }
      ]
    },
    {
      "cell_type": "markdown",
      "source": [
        "Infelizmente a utilização dessa métrica não é tão significativa para o nosso cenário, note, mesmo que uma conta no twitter tenha muitas conexões com outras contas contas bastante influentes isso não a torna influente em todas as situações, ou seja, uma conta que retweeta publicações de pessoas com bastante visibilidade não necessariamente possui uma popularidade no mesmo nível. Observe o primeiro na tabela que possui o maior `eigenvector` que nem mesmo aparece no Top 10 de maior grau antes visto."
      ],
      "metadata": {
        "id": "qXu9aadkWbPp"
      }
    },
    {
      "cell_type": "markdown",
      "source": [
        "# Análise Bivariada"
      ],
      "metadata": {
        "id": "ieFKYpkaTUSl"
      }
    },
    {
      "cell_type": "markdown",
      "source": [
        "Como relatado em outras partes do estudo, estamos lidando com uma rede muito dispersa, ou seja, uma grande quantidade de pequenas interações isoladas, isso faz com que a contagem de contas(Nós), que possuem poucas interações(retweets), são muitas, como vemos no gráfico a seguir."
      ],
      "metadata": {
        "id": "Jqg-7nPecUw-"
      }
    },
    {
      "cell_type": "code",
      "source": [
        "degree_sequence = sorted([d for n, d in Dg.degree()], reverse=True)"
      ],
      "metadata": {
        "id": "4NYUWQOfU2P2"
      },
      "execution_count": null,
      "outputs": []
    },
    {
      "cell_type": "code",
      "source": [
        "plt.style.use(\"fivethirtyeight\")\n",
        "#plt.style.use(\"default\")\n",
        "\n",
        "fig, ax = plt.subplots(1,1,figsize=(10,8))\n",
        "\n",
        "sns.histplot(degree_sequence,bins=10,label=\"Count\",ax=ax)\n",
        "ax2 = ax.twinx()\n",
        "sns.kdeplot(degree_sequence,color='r',label=\"Probability Density Function (PDF)\",ax=ax2)\n",
        "\n",
        "# ask matplotlib for the plotted objects and their labels\n",
        "lines, labels = ax.get_legend_handles_labels()\n",
        "lines2, labels2 = ax2.get_legend_handles_labels()\n",
        "ax2.legend(lines + lines2, labels + labels2, loc=0)\n",
        "\n",
        "ax.grid(False)\n",
        "ax2.grid(False)\n",
        "ax.set_xlabel(\"Degree\")\n",
        "ax2.set_ylabel(\"Probability\")\n",
        "\n",
        "plt.savefig('probability_density_function.png', transparent=True,dpi=600,bbox_inches=\"tight\")\n",
        "plt.show()"
      ],
      "metadata": {
        "colab": {
          "base_uri": "https://localhost:8080/",
          "height": 537
        },
        "id": "FHmt3BNmVBf-",
        "outputId": "61771a19-f658-4e67-e415-a27600335210"
      },
      "execution_count": null,
      "outputs": [
        {
          "output_type": "display_data",
          "data": {
            "image/png": "[encoded data removed]",
            "text/plain": [
              "<Figure size 720x576 with 2 Axes>"
            ]
          },
          "metadata": {}
        }
      ]
    },
    {
      "cell_type": "markdown",
      "source": [
        "É possível observar a quantidade de contas que estão perto do zero em contagem de compartilhamentos."
      ],
      "metadata": {
        "id": "rpdBFos1fvwW"
      }
    },
    {
      "cell_type": "markdown",
      "source": [
        "# Análise Multivariada"
      ],
      "metadata": {
        "id": "YkvsoeNsTakO"
      }
    },
    {
      "cell_type": "markdown",
      "source": [
        "Partindo do que nós já obervamos e vendo os gráficos a seguir podemos novamente reafirmar algumas das nossas descobertas anteriores."
      ],
      "metadata": {
        "id": "05yXZdzLVjLG"
      }
    },
    {
      "cell_type": "code",
      "source": [
        "Dg.remove_edges_from(nx.selfloop_edges(Dg))"
      ],
      "metadata": {
        "id": "WQr58MkHvpDs"
      },
      "execution_count": null,
      "outputs": []
    },
    {
      "cell_type": "code",
      "source": [
        "bc = pd.Series(betweennessDict)\n",
        "dc = pd.Series(degreeDict)\n",
        "ec = pd.Series(eigenvectorDict)\n",
        "cc = pd.Series(closenessDict)\n",
        "\n",
        "df = pd.DataFrame.from_dict({\"Betweenness\": bc,\n",
        "                            \"Degree\": dc,\n",
        "                            \"EigenVector\": ec,\n",
        "                            \"Closeness\": cc})\n",
        "df.reset_index(inplace=True,drop=True)\n",
        "df.head()"
      ],
      "metadata": {
        "colab": {
          "base_uri": "https://localhost:8080/",
          "height": 206
        },
        "id": "b8Z6k7ZDU2pu",
        "outputId": "9baa630b-fce3-4e21-972e-38f8923a1ca4"
      },
      "execution_count": null,
      "outputs": [
        {
          "output_type": "execute_result",
          "data": {
            "text/html": [
              "\n",
              "  <div id=\"df-8cba53f7-12f0-48b8-b6f3-8091c058dce9\">\n",
              "    <div class=\"colab-df-container\">\n",
              "      <div>\n",
              "<style scoped>\n",
              "    .dataframe tbody tr th:only-of-type {\n",
              "        vertical-align: middle;\n",
              "    }\n",
              "\n",
              "    .dataframe tbody tr th {\n",
              "        vertical-align: top;\n",
              "    }\n",
              "\n",
              "    .dataframe thead th {\n",
              "        text-align: right;\n",
              "    }\n",
              "</style>\n",
              "<table border=\"1\" class=\"dataframe\">\n",
              "  <thead>\n",
              "    <tr style=\"text-align: right;\">\n",
              "      <th></th>\n",
              "      <th>Betweenness</th>\n",
              "      <th>Degree</th>\n",
              "      <th>EigenVector</th>\n",
              "      <th>Closeness</th>\n",
              "    </tr>\n",
              "  </thead>\n",
              "  <tbody>\n",
              "    <tr>\n",
              "      <th>0</th>\n",
              "      <td>0.0</td>\n",
              "      <td>0.000041</td>\n",
              "      <td>4.618851e-12</td>\n",
              "      <td>0.000000</td>\n",
              "    </tr>\n",
              "    <tr>\n",
              "      <th>1</th>\n",
              "      <td>0.0</td>\n",
              "      <td>0.000041</td>\n",
              "      <td>6.466392e-11</td>\n",
              "      <td>0.000041</td>\n",
              "    </tr>\n",
              "    <tr>\n",
              "      <th>2</th>\n",
              "      <td>0.0</td>\n",
              "      <td>0.000163</td>\n",
              "      <td>4.618851e-12</td>\n",
              "      <td>0.000000</td>\n",
              "    </tr>\n",
              "    <tr>\n",
              "      <th>3</th>\n",
              "      <td>0.0</td>\n",
              "      <td>0.000041</td>\n",
              "      <td>6.466392e-11</td>\n",
              "      <td>0.000041</td>\n",
              "    </tr>\n",
              "    <tr>\n",
              "      <th>4</th>\n",
              "      <td>0.0</td>\n",
              "      <td>0.000041</td>\n",
              "      <td>4.618851e-12</td>\n",
              "      <td>0.000000</td>\n",
              "    </tr>\n",
              "  </tbody>\n",
              "</table>\n",
              "</div>\n",
              "      <button class=\"colab-df-convert\" onclick=\"convertToInteractive('df-8cba53f7-12f0-48b8-b6f3-8091c058dce9')\"\n",
              "              title=\"Convert this dataframe to an interactive table.\"\n",
              "              style=\"display:none;\">\n",
              "        \n",
              "  <svg xmlns=\"http://www.w3.org/2000/svg\" height=\"24px\"viewBox=\"0 0 24 24\"\n",
              "       width=\"24px\">\n",
              "    <path d=\"M0 0h24v24H0V0z\" fill=\"none\"/>\n",
              "    <path d=\"M18.56 5.44l.94 2.06.94-2.06 2.06-.94-2.06-.94-.94-2.06-.94 2.06-2.06.94zm-11 1L8.5 8.5l.94-2.06 2.06-.94-2.06-.94L8.5 2.5l-.94 2.06-2.06.94zm10 10l.94 2.06.94-2.06 2.06-.94-2.06-.94-.94-2.06-.94 2.06-2.06.94z\"/><path d=\"M17.41 7.96l-1.37-1.37c-.4-.4-.92-.59-1.43-.59-.52 0-1.04.2-1.43.59L10.3 9.45l-7.72 7.72c-.78.78-.78 2.05 0 2.83L4 21.41c.39.39.9.59 1.41.59.51 0 1.02-.2 1.41-.59l7.78-7.78 2.81-2.81c.8-.78.8-2.07 0-2.86zM5.41 20L4 18.59l7.72-7.72 1.47 1.35L5.41 20z\"/>\n",
              "  </svg>\n",
              "      </button>\n",
              "      \n",
              "  <style>\n",
              "    .colab-df-container {\n",
              "      display:flex;\n",
              "      flex-wrap:wrap;\n",
              "      gap: 12px;\n",
              "    }\n",
              "\n",
              "    .colab-df-convert {\n",
              "      background-color: #E8F0FE;\n",
              "      border: none;\n",
              "      border-radius: 50%;\n",
              "      cursor: pointer;\n",
              "      display: none;\n",
              "      fill: #1967D2;\n",
              "      height: 32px;\n",
              "      padding: 0 0 0 0;\n",
              "      width: 32px;\n",
              "    }\n",
              "\n",
              "    .colab-df-convert:hover {\n",
              "      background-color: #E2EBFA;\n",
              "      box-shadow: 0px 1px 2px rgba(60, 64, 67, 0.3), 0px 1px 3px 1px rgba(60, 64, 67, 0.15);\n",
              "      fill: #174EA6;\n",
              "    }\n",
              "\n",
              "    [theme=dark] .colab-df-convert {\n",
              "      background-color: #3B4455;\n",
              "      fill: #D2E3FC;\n",
              "    }\n",
              "\n",
              "    [theme=dark] .colab-df-convert:hover {\n",
              "      background-color: #434B5C;\n",
              "      box-shadow: 0px 1px 3px 1px rgba(0, 0, 0, 0.15);\n",
              "      filter: drop-shadow(0px 1px 2px rgba(0, 0, 0, 0.3));\n",
              "      fill: #FFFFFF;\n",
              "    }\n",
              "  </style>\n",
              "\n",
              "      <script>\n",
              "        const buttonEl =\n",
              "          document.querySelector('#df-8cba53f7-12f0-48b8-b6f3-8091c058dce9 button.colab-df-convert');\n",
              "        buttonEl.style.display =\n",
              "          google.colab.kernel.accessAllowed ? 'block' : 'none';\n",
              "\n",
              "        async function convertToInteractive(key) {\n",
              "          const element = document.querySelector('#df-8cba53f7-12f0-48b8-b6f3-8091c058dce9');\n",
              "          const dataTable =\n",
              "            await google.colab.kernel.invokeFunction('convertToInteractive',\n",
              "                                                     [key], {});\n",
              "          if (!dataTable) return;\n",
              "\n",
              "          const docLinkHtml = 'Like what you see? Visit the ' +\n",
              "            '<a target=\"_blank\" href=https://colab.research.google.com/notebooks/data_table.ipynb>data table notebook</a>'\n",
              "            + ' to learn more about interactive tables.';\n",
              "          element.innerHTML = '';\n",
              "          dataTable['output_type'] = 'display_data';\n",
              "          await google.colab.output.renderOutput(dataTable, element);\n",
              "          const docLink = document.createElement('div');\n",
              "          docLink.innerHTML = docLinkHtml;\n",
              "          element.appendChild(docLink);\n",
              "        }\n",
              "      </script>\n",
              "    </div>\n",
              "  </div>\n",
              "  "
            ],
            "text/plain": [
              "   Betweenness    Degree   EigenVector  Closeness\n",
              "0          0.0  0.000041  4.618851e-12   0.000000\n",
              "1          0.0  0.000041  6.466392e-11   0.000041\n",
              "2          0.0  0.000163  4.618851e-12   0.000000\n",
              "3          0.0  0.000041  6.466392e-11   0.000041\n",
              "4          0.0  0.000041  4.618851e-12   0.000000"
            ]
          },
          "metadata": {},
          "execution_count": 15
        }
      ]
    },
    {
      "cell_type": "markdown",
      "source": [
        "Quando olhamos o primeiro subgrafo, o betweenness e betweenness nós vemos uma distribuição de calda longa, o que nos indica que um grande número de nós com um betweenes baixo enquanto alguns poucos tem um valor maior.\n",
        "\n",
        "Observando o segundo subgráfico, Betweenness e Degree, nós percebemos também que apesar do  degree aumentar não aumenta o betweenness. E que há um pico de valores com degree baixo e betweenness alto.\n",
        "\n",
        "Nós demais gráficos não tem uma relação muito clara de como as medidas de centralidade interferem umas nas outras, em parte pode ser causado pelo fato da rede ser muito esparsa.\n",
        "\n",
        "O subgráfico que voltamos a ter um grau considerável de informação é o gráfico que relaciona EigenVector e Closeness. Podemos oberservar uma pequena correlação entre eles junto de alguns outliers."
      ],
      "metadata": {
        "id": "-1Hf856MVfVJ"
      }
    },
    {
      "cell_type": "code",
      "source": [
        "fig = sns.PairGrid(df)\n",
        "fig.map_upper(sns.scatterplot)\n",
        "fig.map_diag(sns.kdeplot, lw=2, legend=False)\n",
        "#fig.map_lower(sns.kdeplot, cmap=\"Reds_r\")\n",
        "\n",
        "plt.savefig('multi.png', transparent=True,dpi=800,bbox_inches=\"tight\")\n",
        "plt.show()"
      ],
      "metadata": {
        "colab": {
          "base_uri": "https://localhost:8080/",
          "height": 731
        },
        "id": "v0t3K3WeVML2",
        "outputId": "3a38e71e-08e8-4efa-b219-d02598a57b65"
      },
      "execution_count": null,
      "outputs": [
        {
          "output_type": "display_data",
          "data": {
            "image/png": "[encoded data removed]",
            "text/plain": [
              "<Figure size 720x720 with 20 Axes>"
            ]
          },
          "metadata": {}
        }
      ]
    },
    {
      "cell_type": "markdown",
      "source": [
        "# Análise de Decomposição"
      ],
      "metadata": {
        "id": "CfeQum-BTf_-"
      }
    },
    {
      "cell_type": "markdown",
      "source": [
        "Para uma rede desse tamanho, temos um número bem pequeno de camadas, apenas de 11. A maioria dos nós tem grau muito pequeno e é uma rede bastante esparsa como já descoberto anteriormente. Essas informações apenas reforçam o que as nossas análises anteriores já mostraram."
      ],
      "metadata": {
        "id": "FjWI4rTKYL6P"
      }
    },
    {
      "cell_type": "code",
      "source": [
        "set([v for k,v in nx.core_number(Dg).items()])"
      ],
      "metadata": {
        "colab": {
          "base_uri": "https://localhost:8080/"
        },
        "id": "FUNJ6bhhU3IF",
        "outputId": "536a3936-9a64-486b-e04d-e15b29982ad2"
      },
      "execution_count": null,
      "outputs": [
        {
          "output_type": "execute_result",
          "data": {
            "text/plain": [
              "{0, 1, 2, 3, 4, 5, 6, 7, 8, 9, 10, 11}"
            ]
          },
          "metadata": {},
          "execution_count": 12
        }
      ]
    },
    {
      "cell_type": "code",
      "source": [
        "# the degree of network(g)\n",
        "fig, ax = plt.subplots(1,1,figsize=(10,8))\n",
        "\n",
        "# Find k-cores\n",
        "g_core_10 = nx.k_shell(Dg, 10)\n",
        "g_core_11 = nx.k_core(Dg, 11)\n",
        "\n",
        "# layout position\n",
        "pos = nx.spring_layout(Dg,seed=123456789,k=0.3)\n",
        "\n",
        "# draw edges\n",
        "nx.draw_networkx_edges(Dg,\n",
        "                       pos=pos,\n",
        "                       alpha=0.4, ax=ax)\n",
        "\n",
        "# draw nodes\n",
        "nodes = nx.draw_networkx_nodes(Dg,\n",
        "                 pos=pos,\n",
        "                 node_color=\"#333333\")\n",
        "\n",
        "# draw nodes\n",
        "nodes = nx.draw_networkx_nodes(g_core_10,\n",
        "                 pos=pos,\n",
        "                 node_color=\"blue\")\n",
        "\n",
        "nodes = nx.draw_networkx_nodes(g_core_11,\n",
        "                 pos=pos,\n",
        "                 node_color=\"red\")\n",
        "\n",
        "# static legend\n",
        "red_patch = mpatches.Patch(color='red', label='11-core')\n",
        "blue_patch = mpatches.Patch(color='blue', label='10-shell')\n",
        "plt.legend(handles=[red_patch,blue_patch])\n",
        "\n",
        "plt.axis(\"off\")\n",
        "plt.savefig('k-core.png', transparent=True,dpi=600)\n",
        "plt.show()"
      ],
      "metadata": {
        "colab": {
          "base_uri": "https://localhost:8080/",
          "height": 466
        },
        "id": "oKApf1XFVPGI",
        "outputId": "d625b38e-7f56-49d3-9f69-4e5d785d88a2"
      },
      "execution_count": null,
      "outputs": [
        {
          "output_type": "display_data",
          "data": {
            "image/png": "[encoded data removed]",
            "text/plain": [
              "<Figure size 720x576 with 1 Axes>"
            ]
          },
          "metadata": {}
        }
      ]
    },
    {
      "cell_type": "code",
      "source": [
        "list(g_core_10)"
      ],
      "metadata": {
        "colab": {
          "base_uri": "https://localhost:8080/"
        },
        "id": "gz37g6NPVWuW",
        "outputId": "d0df217c-4f3d-4597-b550-588c4258b5c1"
      },
      "execution_count": null,
      "outputs": [
        {
          "output_type": "execute_result",
          "data": {
            "text/plain": [
              "['vegasfeverpod', 'WeeklyAudible', 'wendellwallace', 'JeffWarnerNFL']"
            ]
          },
          "metadata": {},
          "execution_count": 14
        }
      ]
    },
    {
      "cell_type": "code",
      "source": [
        "list(g_core_11)"
      ],
      "metadata": {
        "colab": {
          "base_uri": "https://localhost:8080/"
        },
        "id": "Yh8FoqegVYu2",
        "outputId": "2855457d-6c81-432c-f81e-821b711ab4c2"
      },
      "execution_count": null,
      "outputs": [
        {
          "output_type": "execute_result",
          "data": {
            "text/plain": [
              "['AATSports_',\n",
              " 'Rbloss64',\n",
              " 'LogoHog',\n",
              " 'ToTheHizzy',\n",
              " 'Paul_Ryan15',\n",
              " 'FinSports2',\n",
              " 'SportsTimeHQ',\n",
              " 'FANTASYBROZ1',\n",
              " 'JNforsports',\n",
              " 'UnderCentrePod',\n",
              " 'JakesFFootball',\n",
              " 'NFLProPicks',\n",
              " 'PigskinPapers',\n",
              " 'joes_talk',\n",
              " 'GoodOldBoysFF',\n",
              " 'MikePrE57',\n",
              " 'MintSports',\n",
              " '3rdShortPod',\n",
              " 'TITTHJB',\n",
              " 'FranchiseTagUK',\n",
              " 'PTSportsFix',\n",
              " 'Broadwayhatpod',\n",
              " 'CHUBZBURGER',\n",
              " 'AATBirds',\n",
              " 'sportsblisswit1',\n",
              " 'bellyupmdffshow',\n",
              " 'PeterSaverio',\n",
              " 'TMSMpodcast',\n",
              " 'DSM_Media',\n",
              " 'FIToday_',\n",
              " 'ChiefCFS',\n",
              " 'AdamHulseSports']"
            ]
          },
          "metadata": {},
          "execution_count": 15
        }
      ]
    }
  ]
}